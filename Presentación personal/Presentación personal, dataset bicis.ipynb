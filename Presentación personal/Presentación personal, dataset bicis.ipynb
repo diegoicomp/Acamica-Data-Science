{
 "cells": [
  {
   "cell_type": "markdown",
   "metadata": {},
   "source": [
    "# PRESENTACIÓN ACÁMICA: Dataset Recorridos Realizados EcoBici 2018\n",
    "<img src= https://imgsvr.radiocut.site/get/thumb/900/900/cuts_logos/64/dd/64ddc026-2210-47f1-bb91-f62c3ae44f6f.png width= 300>\n",
    "\n",
    ">EcoBici, es un sistema de bicicletas compartidas que funciona en la Ciudad de Buenos Aires, cuenta con 400 estaciones y 4000 rodados y en 2018 más de 200.000 usuarios realizaron más de 8 millones de viajes durante el año*. Una característica no usual en este tipo de sistema es que su uso, que requiere un registro previo, es totalmente gratuito tanto para residentes locales como para turistas.\n",
    "\n",
    ">A partir de 2019, el sistema es operado por la empresa brasileña Tembici conforme a una norma que aprobó la Legislatura porteña meses atrás. Se planea la duplicación de bicicletas y estaciones.Actualmente el sistema está presente en 38 de los 48 barrios de la Ciudad Autónoma de Buenos Aires, funcionando los 365 días del año 24 horas.[(Wikipedia, consultado el 24/10/2019)](https://es.wikipedia.org/wiki/EcoBici_(Buenos_Aires))\n",
    "\n",
    "Página de referencia: https://data.buenosaires.gob.ar/dataset/bicicletas-publicas\n",
    "\n",
    "Fuente primaria: Ministerio de Desarrollo Urbano y Transporte. SS de Movilidad Sustentable y Segura. (Subsecretaria: Paula Bisiau, Ministro: Franco Moccia)\n",
    "\n",
    "Mantenedor:\n",
    "Secretaría General y Relaciones Internacionales. Subsecretaría Gestión Estratégica y Calidad Institucional. Dirección General Calidad Institucional y Gobierno Abierto.\n",
    "\n",
    "Licencia Atribución 2.5 Argentina (CC BY 2.5 AR)\n"
   ]
  },
  {
   "cell_type": "code",
   "execution_count": 1,
   "metadata": {},
   "outputs": [],
   "source": [
    "import pandas as pd\n",
    "import numpy as np\n",
    "import matplotlib.pyplot as plt\n",
    "%matplotlib inline\n",
    "import seaborn as sns"
   ]
  },
  {
   "cell_type": "code",
   "execution_count": 2,
   "metadata": {},
   "outputs": [],
   "source": [
    "df = pd.read_csv(\"dataset/recorridos-realizados-2018.csv\", parse_dates = [\"bici_Fecha_hora_retiro\", \"bici_tiempo_uso\"])"
   ]
  },
  {
   "cell_type": "markdown",
   "metadata": {},
   "source": [
    "## 1) ¿Cómo empezar? Primera aproximación al *dataset*\n",
    "Primero me propuse ver información general sobre el *dataset*, de manera de tener una idea general sobre el mismo (cómo se ve, cantidad de columnas y sus valores, cantidad de filas, tipos de valores, número de NaNs y estadísticas descriptivas)."
   ]
  },
  {
   "cell_type": "code",
   "execution_count": 12,
   "metadata": {},
   "outputs": [
    {
     "data": {
      "text/html": [
       "<div>\n",
       "<style scoped>\n",
       "    .dataframe tbody tr th:only-of-type {\n",
       "        vertical-align: middle;\n",
       "    }\n",
       "\n",
       "    .dataframe tbody tr th {\n",
       "        vertical-align: top;\n",
       "    }\n",
       "\n",
       "    .dataframe thead th {\n",
       "        text-align: right;\n",
       "    }\n",
       "</style>\n",
       "<table border=\"1\" class=\"dataframe\">\n",
       "  <thead>\n",
       "    <tr style=\"text-align: right;\">\n",
       "      <th></th>\n",
       "      <th>bici_id_usuario</th>\n",
       "      <th>bici_Fecha_hora_retiro</th>\n",
       "      <th>bici_tiempo_uso</th>\n",
       "      <th>bici_nombre_estacion_origen</th>\n",
       "      <th>bici_estacion_origen</th>\n",
       "      <th>bici_nombre_estacion_destino</th>\n",
       "      <th>bici_estacion_destino</th>\n",
       "      <th>bici_sexo</th>\n",
       "      <th>bici_edad</th>\n",
       "    </tr>\n",
       "  </thead>\n",
       "  <tbody>\n",
       "    <tr>\n",
       "      <td>0</td>\n",
       "      <td>5453</td>\n",
       "      <td>2018-01-01 00:08:05</td>\n",
       "      <td>0 days 00:19:53.000000000</td>\n",
       "      <td>Uruguay</td>\n",
       "      <td>45</td>\n",
       "      <td>Virrey Cevallos</td>\n",
       "      <td>183</td>\n",
       "      <td>M</td>\n",
       "      <td>45</td>\n",
       "    </tr>\n",
       "    <tr>\n",
       "      <td>1</td>\n",
       "      <td>673</td>\n",
       "      <td>2018-01-01 00:18:05</td>\n",
       "      <td>0 days 00:26:19.000000000</td>\n",
       "      <td>Posadas</td>\n",
       "      <td>189</td>\n",
       "      <td>Guardia Vieja</td>\n",
       "      <td>110</td>\n",
       "      <td>M</td>\n",
       "      <td>61</td>\n",
       "    </tr>\n",
       "    <tr>\n",
       "      <td>2</td>\n",
       "      <td>179119</td>\n",
       "      <td>2018-01-01 00:20:14</td>\n",
       "      <td>0 days 00:27:39.000000000</td>\n",
       "      <td>Hospital Rivadavia</td>\n",
       "      <td>50</td>\n",
       "      <td>Padilla</td>\n",
       "      <td>31</td>\n",
       "      <td>F</td>\n",
       "      <td>52</td>\n",
       "    </tr>\n",
       "    <tr>\n",
       "      <td>3</td>\n",
       "      <td>400147</td>\n",
       "      <td>2018-01-01 00:20:22</td>\n",
       "      <td>0 days 00:48:51.000000000</td>\n",
       "      <td>Macacha Güemes</td>\n",
       "      <td>111</td>\n",
       "      <td>Acuña de Figueroa</td>\n",
       "      <td>54</td>\n",
       "      <td>M</td>\n",
       "      <td>27</td>\n",
       "    </tr>\n",
       "    <tr>\n",
       "      <td>4</td>\n",
       "      <td>400156</td>\n",
       "      <td>2018-01-01 00:20:31</td>\n",
       "      <td>0 days 00:49:27.000000000</td>\n",
       "      <td>Macacha Güemes</td>\n",
       "      <td>111</td>\n",
       "      <td>Acuña de Figueroa</td>\n",
       "      <td>54</td>\n",
       "      <td>F</td>\n",
       "      <td>27</td>\n",
       "    </tr>\n",
       "  </tbody>\n",
       "</table>\n",
       "</div>"
      ],
      "text/plain": [
       "   bici_id_usuario bici_Fecha_hora_retiro            bici_tiempo_uso  \\\n",
       "0             5453    2018-01-01 00:08:05  0 days 00:19:53.000000000   \n",
       "1              673    2018-01-01 00:18:05  0 days 00:26:19.000000000   \n",
       "2           179119    2018-01-01 00:20:14  0 days 00:27:39.000000000   \n",
       "3           400147    2018-01-01 00:20:22  0 days 00:48:51.000000000   \n",
       "4           400156    2018-01-01 00:20:31  0 days 00:49:27.000000000   \n",
       "\n",
       "  bici_nombre_estacion_origen  bici_estacion_origen  \\\n",
       "0                     Uruguay                    45   \n",
       "1                     Posadas                   189   \n",
       "2          Hospital Rivadavia                    50   \n",
       "3              Macacha Güemes                   111   \n",
       "4              Macacha Güemes                   111   \n",
       "\n",
       "  bici_nombre_estacion_destino  bici_estacion_destino bici_sexo  bici_edad  \n",
       "0              Virrey Cevallos                    183         M         45  \n",
       "1                Guardia Vieja                    110         M         61  \n",
       "2                      Padilla                     31         F         52  \n",
       "3            Acuña de Figueroa                     54         M         27  \n",
       "4            Acuña de Figueroa                     54         F         27  "
      ]
     },
     "execution_count": 12,
     "metadata": {},
     "output_type": "execute_result"
    }
   ],
   "source": [
    "df.head()"
   ]
  },
  {
   "cell_type": "code",
   "execution_count": 3,
   "metadata": {},
   "outputs": [
    {
     "data": {
      "text/html": [
       "<div>\n",
       "<style scoped>\n",
       "    .dataframe tbody tr th:only-of-type {\n",
       "        vertical-align: middle;\n",
       "    }\n",
       "\n",
       "    .dataframe tbody tr th {\n",
       "        vertical-align: top;\n",
       "    }\n",
       "\n",
       "    .dataframe thead th {\n",
       "        text-align: right;\n",
       "    }\n",
       "</style>\n",
       "<table border=\"1\" class=\"dataframe\">\n",
       "  <thead>\n",
       "    <tr style=\"text-align: right;\">\n",
       "      <th></th>\n",
       "      <th>bici_id_usuario</th>\n",
       "      <th>bici_Fecha_hora_retiro</th>\n",
       "      <th>bici_tiempo_uso</th>\n",
       "      <th>bici_nombre_estacion_origen</th>\n",
       "      <th>bici_estacion_origen</th>\n",
       "      <th>bici_nombre_estacion_destino</th>\n",
       "      <th>bici_estacion_destino</th>\n",
       "      <th>bici_sexo</th>\n",
       "      <th>bici_edad</th>\n",
       "    </tr>\n",
       "  </thead>\n",
       "  <tbody>\n",
       "    <tr>\n",
       "      <td>2619963</td>\n",
       "      <td>190597</td>\n",
       "      <td>2018-12-30 19:46:32</td>\n",
       "      <td>0 days 00:07:15.000000000</td>\n",
       "      <td>Plaza Primero de Mayo</td>\n",
       "      <td>75</td>\n",
       "      <td>México</td>\n",
       "      <td>118</td>\n",
       "      <td>M</td>\n",
       "      <td>21</td>\n",
       "    </tr>\n",
       "    <tr>\n",
       "      <td>2619964</td>\n",
       "      <td>119885</td>\n",
       "      <td>2018-12-30 19:48:14</td>\n",
       "      <td>0 days 00:09:59.000000000</td>\n",
       "      <td>Virrey Liniers</td>\n",
       "      <td>139</td>\n",
       "      <td>EEUU y Boedo</td>\n",
       "      <td>199</td>\n",
       "      <td>F</td>\n",
       "      <td>22</td>\n",
       "    </tr>\n",
       "    <tr>\n",
       "      <td>2619965</td>\n",
       "      <td>652034</td>\n",
       "      <td>2018-12-30 19:48:51</td>\n",
       "      <td>0 days 00:10:32.000000000</td>\n",
       "      <td>Peña</td>\n",
       "      <td>30</td>\n",
       "      <td>Ayacucho</td>\n",
       "      <td>76</td>\n",
       "      <td>F</td>\n",
       "      <td>20</td>\n",
       "    </tr>\n",
       "    <tr>\n",
       "      <td>2619966</td>\n",
       "      <td>467438</td>\n",
       "      <td>2018-12-30 19:51:42</td>\n",
       "      <td>0 days 00:09:57.000000000</td>\n",
       "      <td>Sánchez de Bustamante</td>\n",
       "      <td>52</td>\n",
       "      <td>Sánchez de Bustamante</td>\n",
       "      <td>52</td>\n",
       "      <td>M</td>\n",
       "      <td>26</td>\n",
       "    </tr>\n",
       "    <tr>\n",
       "      <td>2619967</td>\n",
       "      <td>265951</td>\n",
       "      <td>2018-12-30 19:52:41</td>\n",
       "      <td>0 days 00:10:26.000000000</td>\n",
       "      <td>Parque Lezama</td>\n",
       "      <td>6</td>\n",
       "      <td>Azopardo y Chile</td>\n",
       "      <td>137</td>\n",
       "      <td>M</td>\n",
       "      <td>41</td>\n",
       "    </tr>\n",
       "  </tbody>\n",
       "</table>\n",
       "</div>"
      ],
      "text/plain": [
       "         bici_id_usuario bici_Fecha_hora_retiro            bici_tiempo_uso  \\\n",
       "2619963           190597    2018-12-30 19:46:32  0 days 00:07:15.000000000   \n",
       "2619964           119885    2018-12-30 19:48:14  0 days 00:09:59.000000000   \n",
       "2619965           652034    2018-12-30 19:48:51  0 days 00:10:32.000000000   \n",
       "2619966           467438    2018-12-30 19:51:42  0 days 00:09:57.000000000   \n",
       "2619967           265951    2018-12-30 19:52:41  0 days 00:10:26.000000000   \n",
       "\n",
       "        bici_nombre_estacion_origen  bici_estacion_origen  \\\n",
       "2619963       Plaza Primero de Mayo                    75   \n",
       "2619964              Virrey Liniers                   139   \n",
       "2619965                        Peña                    30   \n",
       "2619966       Sánchez de Bustamante                    52   \n",
       "2619967               Parque Lezama                     6   \n",
       "\n",
       "        bici_nombre_estacion_destino  bici_estacion_destino bici_sexo  \\\n",
       "2619963                       México                    118         M   \n",
       "2619964                 EEUU y Boedo                    199         F   \n",
       "2619965                     Ayacucho                     76         F   \n",
       "2619966        Sánchez de Bustamante                     52         M   \n",
       "2619967             Azopardo y Chile                    137         M   \n",
       "\n",
       "         bici_edad  \n",
       "2619963         21  \n",
       "2619964         22  \n",
       "2619965         20  \n",
       "2619966         26  \n",
       "2619967         41  "
      ]
     },
     "execution_count": 3,
     "metadata": {},
     "output_type": "execute_result"
    }
   ],
   "source": [
    "df.tail()"
   ]
  },
  {
   "cell_type": "code",
   "execution_count": 5,
   "metadata": {},
   "outputs": [
    {
     "data": {
      "text/plain": [
       "(2619968, 9)"
      ]
     },
     "execution_count": 5,
     "metadata": {},
     "output_type": "execute_result"
    }
   ],
   "source": [
    "df.shape"
   ]
  },
  {
   "cell_type": "markdown",
   "metadata": {},
   "source": [
    "# *Nota: <font color= red>¿Por qué dice 2 millones 600 mil en el dataset y Paula Bisiau -Subsecretaria de Movilidad Sustentable- declara que fueron más de ocho millones en la afirmación de más arriba?</font> \n",
    "\n",
    "# Ambos vínculos a la afirmación de Wikipedia no existen más, uno está roto y el otro cambió de contenido. Capaz quisieron decir que era el total para todos los años del sistema."
   ]
  },
  {
   "cell_type": "code",
   "execution_count": 5,
   "metadata": {},
   "outputs": [
    {
     "data": {
      "text/plain": [
       "['bici_id_usuario',\n",
       " 'bici_Fecha_hora_retiro',\n",
       " 'bici_tiempo_uso',\n",
       " 'bici_nombre_estacion_origen',\n",
       " 'bici_estacion_origen',\n",
       " 'bici_nombre_estacion_destino',\n",
       " 'bici_estacion_destino',\n",
       " 'bici_sexo',\n",
       " 'bici_edad']"
      ]
     },
     "execution_count": 5,
     "metadata": {},
     "output_type": "execute_result"
    }
   ],
   "source": [
    "list(df.columns)"
   ]
  },
  {
   "cell_type": "code",
   "execution_count": 6,
   "metadata": {},
   "outputs": [
    {
     "data": {
      "text/plain": [
       "bici_id_usuario                          int64\n",
       "bici_Fecha_hora_retiro          datetime64[ns]\n",
       "bici_tiempo_uso                         object\n",
       "bici_nombre_estacion_origen             object\n",
       "bici_estacion_origen                     int64\n",
       "bici_nombre_estacion_destino            object\n",
       "bici_estacion_destino                    int64\n",
       "bici_sexo                               object\n",
       "bici_edad                                int64\n",
       "dtype: object"
      ]
     },
     "execution_count": 6,
     "metadata": {},
     "output_type": "execute_result"
    }
   ],
   "source": [
    "df.dtypes"
   ]
  },
  {
   "cell_type": "code",
   "execution_count": 21,
   "metadata": {},
   "outputs": [
    {
     "data": {
      "text/html": [
       "<div>\n",
       "<style scoped>\n",
       "    .dataframe tbody tr th:only-of-type {\n",
       "        vertical-align: middle;\n",
       "    }\n",
       "\n",
       "    .dataframe tbody tr th {\n",
       "        vertical-align: top;\n",
       "    }\n",
       "\n",
       "    .dataframe thead th {\n",
       "        text-align: right;\n",
       "    }\n",
       "</style>\n",
       "<table border=\"1\" class=\"dataframe\">\n",
       "  <thead>\n",
       "    <tr style=\"text-align: right;\">\n",
       "      <th></th>\n",
       "      <th>bici_id_usuario</th>\n",
       "      <th>bici_estacion_origen</th>\n",
       "      <th>bici_estacion_destino</th>\n",
       "      <th>bici_edad</th>\n",
       "    </tr>\n",
       "  </thead>\n",
       "  <tbody>\n",
       "    <tr>\n",
       "      <td>count</td>\n",
       "      <td>2.619968e+06</td>\n",
       "      <td>2.619968e+06</td>\n",
       "      <td>2.619968e+06</td>\n",
       "      <td>2.619968e+06</td>\n",
       "    </tr>\n",
       "    <tr>\n",
       "      <td>mean</td>\n",
       "      <td>3.281220e+05</td>\n",
       "      <td>9.499050e+01</td>\n",
       "      <td>9.540232e+01</td>\n",
       "      <td>3.322898e+01</td>\n",
       "    </tr>\n",
       "    <tr>\n",
       "      <td>std</td>\n",
       "      <td>1.864424e+05</td>\n",
       "      <td>5.859776e+01</td>\n",
       "      <td>5.862938e+01</td>\n",
       "      <td>1.112349e+01</td>\n",
       "    </tr>\n",
       "    <tr>\n",
       "      <td>min</td>\n",
       "      <td>8.000000e+00</td>\n",
       "      <td>1.000000e+00</td>\n",
       "      <td>1.000000e+00</td>\n",
       "      <td>1.600000e+01</td>\n",
       "    </tr>\n",
       "    <tr>\n",
       "      <td>25%</td>\n",
       "      <td>1.577910e+05</td>\n",
       "      <td>4.100000e+01</td>\n",
       "      <td>4.200000e+01</td>\n",
       "      <td>2.500000e+01</td>\n",
       "    </tr>\n",
       "    <tr>\n",
       "      <td>50%</td>\n",
       "      <td>3.531940e+05</td>\n",
       "      <td>9.100000e+01</td>\n",
       "      <td>9.200000e+01</td>\n",
       "      <td>3.000000e+01</td>\n",
       "    </tr>\n",
       "    <tr>\n",
       "      <td>75%</td>\n",
       "      <td>4.917370e+05</td>\n",
       "      <td>1.460000e+02</td>\n",
       "      <td>1.470000e+02</td>\n",
       "      <td>3.900000e+01</td>\n",
       "    </tr>\n",
       "    <tr>\n",
       "      <td>max</td>\n",
       "      <td>6.724490e+05</td>\n",
       "      <td>6.000000e+02</td>\n",
       "      <td>6.000000e+02</td>\n",
       "      <td>1.400000e+02</td>\n",
       "    </tr>\n",
       "  </tbody>\n",
       "</table>\n",
       "</div>"
      ],
      "text/plain": [
       "       bici_id_usuario  bici_estacion_origen  bici_estacion_destino  \\\n",
       "count     2.619968e+06          2.619968e+06           2.619968e+06   \n",
       "mean      3.281220e+05          9.499050e+01           9.540232e+01   \n",
       "std       1.864424e+05          5.859776e+01           5.862938e+01   \n",
       "min       8.000000e+00          1.000000e+00           1.000000e+00   \n",
       "25%       1.577910e+05          4.100000e+01           4.200000e+01   \n",
       "50%       3.531940e+05          9.100000e+01           9.200000e+01   \n",
       "75%       4.917370e+05          1.460000e+02           1.470000e+02   \n",
       "max       6.724490e+05          6.000000e+02           6.000000e+02   \n",
       "\n",
       "          bici_edad  \n",
       "count  2.619968e+06  \n",
       "mean   3.322898e+01  \n",
       "std    1.112349e+01  \n",
       "min    1.600000e+01  \n",
       "25%    2.500000e+01  \n",
       "50%    3.000000e+01  \n",
       "75%    3.900000e+01  \n",
       "max    1.400000e+02  "
      ]
     },
     "execution_count": 21,
     "metadata": {},
     "output_type": "execute_result"
    }
   ],
   "source": [
    "df.describe() # es notación científica"
   ]
  },
  {
   "cell_type": "markdown",
   "metadata": {},
   "source": [
    "### Valores nulos\n",
    "Hay 43723 NaN en la columna \"bici_tiempo_uso\", que es la única que tiene NaNs."
   ]
  },
  {
   "cell_type": "code",
   "execution_count": 8,
   "metadata": {},
   "outputs": [
    {
     "data": {
      "text/plain": [
       "bici_id_usuario                     0\n",
       "bici_Fecha_hora_retiro              0\n",
       "bici_tiempo_uso                 43723\n",
       "bici_nombre_estacion_origen         0\n",
       "bici_estacion_origen                0\n",
       "bici_nombre_estacion_destino        0\n",
       "bici_estacion_destino               0\n",
       "bici_sexo                           0\n",
       "bici_edad                           0\n",
       "dtype: int64"
      ]
     },
     "execution_count": 8,
     "metadata": {},
     "output_type": "execute_result"
    }
   ],
   "source": [
    "df.isna().sum()"
   ]
  },
  {
   "cell_type": "code",
   "execution_count": 37,
   "metadata": {},
   "outputs": [
    {
     "ename": "KeyError",
     "evalue": "\"['bici_id_usuario'] not found in axis\"",
     "output_type": "error",
     "traceback": [
      "\u001b[1;31m---------------------------------------------------------------------------\u001b[0m",
      "\u001b[1;31mKeyError\u001b[0m                                  Traceback (most recent call last)",
      "\u001b[1;32m<ipython-input-37-bcbe0af044a4>\u001b[0m in \u001b[0;36m<module>\u001b[1;34m\u001b[0m\n\u001b[0;32m      1\u001b[0m \u001b[0mdf_drop\u001b[0m \u001b[1;33m=\u001b[0m \u001b[0mdf\u001b[0m\u001b[1;33m\u001b[0m\u001b[1;33m\u001b[0m\u001b[0m\n\u001b[1;32m----> 2\u001b[1;33m \u001b[0mdf_drop\u001b[0m\u001b[1;33m.\u001b[0m\u001b[0mdrop\u001b[0m\u001b[1;33m(\u001b[0m\u001b[1;34m\"bici_id_usuario\"\u001b[0m\u001b[1;33m,\u001b[0m \u001b[0minplace\u001b[0m\u001b[1;33m=\u001b[0m \u001b[1;32mTrue\u001b[0m\u001b[1;33m,\u001b[0m \u001b[0maxis\u001b[0m \u001b[1;33m=\u001b[0m \u001b[1;36m1\u001b[0m\u001b[1;33m)\u001b[0m\u001b[1;33m\u001b[0m\u001b[1;33m\u001b[0m\u001b[0m\n\u001b[0m",
      "\u001b[1;32m~\\Miniconda3\\envs\\datascience\\lib\\site-packages\\pandas\\core\\frame.py\u001b[0m in \u001b[0;36mdrop\u001b[1;34m(self, labels, axis, index, columns, level, inplace, errors)\u001b[0m\n\u001b[0;32m   4100\u001b[0m             \u001b[0mlevel\u001b[0m\u001b[1;33m=\u001b[0m\u001b[0mlevel\u001b[0m\u001b[1;33m,\u001b[0m\u001b[1;33m\u001b[0m\u001b[1;33m\u001b[0m\u001b[0m\n\u001b[0;32m   4101\u001b[0m             \u001b[0minplace\u001b[0m\u001b[1;33m=\u001b[0m\u001b[0minplace\u001b[0m\u001b[1;33m,\u001b[0m\u001b[1;33m\u001b[0m\u001b[1;33m\u001b[0m\u001b[0m\n\u001b[1;32m-> 4102\u001b[1;33m             \u001b[0merrors\u001b[0m\u001b[1;33m=\u001b[0m\u001b[0merrors\u001b[0m\u001b[1;33m,\u001b[0m\u001b[1;33m\u001b[0m\u001b[1;33m\u001b[0m\u001b[0m\n\u001b[0m\u001b[0;32m   4103\u001b[0m         )\n\u001b[0;32m   4104\u001b[0m \u001b[1;33m\u001b[0m\u001b[0m\n",
      "\u001b[1;32m~\\Miniconda3\\envs\\datascience\\lib\\site-packages\\pandas\\core\\generic.py\u001b[0m in \u001b[0;36mdrop\u001b[1;34m(self, labels, axis, index, columns, level, inplace, errors)\u001b[0m\n\u001b[0;32m   3912\u001b[0m         \u001b[1;32mfor\u001b[0m \u001b[0maxis\u001b[0m\u001b[1;33m,\u001b[0m \u001b[0mlabels\u001b[0m \u001b[1;32min\u001b[0m \u001b[0maxes\u001b[0m\u001b[1;33m.\u001b[0m\u001b[0mitems\u001b[0m\u001b[1;33m(\u001b[0m\u001b[1;33m)\u001b[0m\u001b[1;33m:\u001b[0m\u001b[1;33m\u001b[0m\u001b[1;33m\u001b[0m\u001b[0m\n\u001b[0;32m   3913\u001b[0m             \u001b[1;32mif\u001b[0m \u001b[0mlabels\u001b[0m \u001b[1;32mis\u001b[0m \u001b[1;32mnot\u001b[0m \u001b[1;32mNone\u001b[0m\u001b[1;33m:\u001b[0m\u001b[1;33m\u001b[0m\u001b[1;33m\u001b[0m\u001b[0m\n\u001b[1;32m-> 3914\u001b[1;33m                 \u001b[0mobj\u001b[0m \u001b[1;33m=\u001b[0m \u001b[0mobj\u001b[0m\u001b[1;33m.\u001b[0m\u001b[0m_drop_axis\u001b[0m\u001b[1;33m(\u001b[0m\u001b[0mlabels\u001b[0m\u001b[1;33m,\u001b[0m \u001b[0maxis\u001b[0m\u001b[1;33m,\u001b[0m \u001b[0mlevel\u001b[0m\u001b[1;33m=\u001b[0m\u001b[0mlevel\u001b[0m\u001b[1;33m,\u001b[0m \u001b[0merrors\u001b[0m\u001b[1;33m=\u001b[0m\u001b[0merrors\u001b[0m\u001b[1;33m)\u001b[0m\u001b[1;33m\u001b[0m\u001b[1;33m\u001b[0m\u001b[0m\n\u001b[0m\u001b[0;32m   3915\u001b[0m \u001b[1;33m\u001b[0m\u001b[0m\n\u001b[0;32m   3916\u001b[0m         \u001b[1;32mif\u001b[0m \u001b[0minplace\u001b[0m\u001b[1;33m:\u001b[0m\u001b[1;33m\u001b[0m\u001b[1;33m\u001b[0m\u001b[0m\n",
      "\u001b[1;32m~\\Miniconda3\\envs\\datascience\\lib\\site-packages\\pandas\\core\\generic.py\u001b[0m in \u001b[0;36m_drop_axis\u001b[1;34m(self, labels, axis, level, errors)\u001b[0m\n\u001b[0;32m   3944\u001b[0m                 \u001b[0mnew_axis\u001b[0m \u001b[1;33m=\u001b[0m \u001b[0maxis\u001b[0m\u001b[1;33m.\u001b[0m\u001b[0mdrop\u001b[0m\u001b[1;33m(\u001b[0m\u001b[0mlabels\u001b[0m\u001b[1;33m,\u001b[0m \u001b[0mlevel\u001b[0m\u001b[1;33m=\u001b[0m\u001b[0mlevel\u001b[0m\u001b[1;33m,\u001b[0m \u001b[0merrors\u001b[0m\u001b[1;33m=\u001b[0m\u001b[0merrors\u001b[0m\u001b[1;33m)\u001b[0m\u001b[1;33m\u001b[0m\u001b[1;33m\u001b[0m\u001b[0m\n\u001b[0;32m   3945\u001b[0m             \u001b[1;32melse\u001b[0m\u001b[1;33m:\u001b[0m\u001b[1;33m\u001b[0m\u001b[1;33m\u001b[0m\u001b[0m\n\u001b[1;32m-> 3946\u001b[1;33m                 \u001b[0mnew_axis\u001b[0m \u001b[1;33m=\u001b[0m \u001b[0maxis\u001b[0m\u001b[1;33m.\u001b[0m\u001b[0mdrop\u001b[0m\u001b[1;33m(\u001b[0m\u001b[0mlabels\u001b[0m\u001b[1;33m,\u001b[0m \u001b[0merrors\u001b[0m\u001b[1;33m=\u001b[0m\u001b[0merrors\u001b[0m\u001b[1;33m)\u001b[0m\u001b[1;33m\u001b[0m\u001b[1;33m\u001b[0m\u001b[0m\n\u001b[0m\u001b[0;32m   3947\u001b[0m             \u001b[0mresult\u001b[0m \u001b[1;33m=\u001b[0m \u001b[0mself\u001b[0m\u001b[1;33m.\u001b[0m\u001b[0mreindex\u001b[0m\u001b[1;33m(\u001b[0m\u001b[1;33m**\u001b[0m\u001b[1;33m{\u001b[0m\u001b[0maxis_name\u001b[0m\u001b[1;33m:\u001b[0m \u001b[0mnew_axis\u001b[0m\u001b[1;33m}\u001b[0m\u001b[1;33m)\u001b[0m\u001b[1;33m\u001b[0m\u001b[1;33m\u001b[0m\u001b[0m\n\u001b[0;32m   3948\u001b[0m \u001b[1;33m\u001b[0m\u001b[0m\n",
      "\u001b[1;32m~\\Miniconda3\\envs\\datascience\\lib\\site-packages\\pandas\\core\\indexes\\base.py\u001b[0m in \u001b[0;36mdrop\u001b[1;34m(self, labels, errors)\u001b[0m\n\u001b[0;32m   5338\u001b[0m         \u001b[1;32mif\u001b[0m \u001b[0mmask\u001b[0m\u001b[1;33m.\u001b[0m\u001b[0many\u001b[0m\u001b[1;33m(\u001b[0m\u001b[1;33m)\u001b[0m\u001b[1;33m:\u001b[0m\u001b[1;33m\u001b[0m\u001b[1;33m\u001b[0m\u001b[0m\n\u001b[0;32m   5339\u001b[0m             \u001b[1;32mif\u001b[0m \u001b[0merrors\u001b[0m \u001b[1;33m!=\u001b[0m \u001b[1;34m\"ignore\"\u001b[0m\u001b[1;33m:\u001b[0m\u001b[1;33m\u001b[0m\u001b[1;33m\u001b[0m\u001b[0m\n\u001b[1;32m-> 5340\u001b[1;33m                 \u001b[1;32mraise\u001b[0m \u001b[0mKeyError\u001b[0m\u001b[1;33m(\u001b[0m\u001b[1;34m\"{} not found in axis\"\u001b[0m\u001b[1;33m.\u001b[0m\u001b[0mformat\u001b[0m\u001b[1;33m(\u001b[0m\u001b[0mlabels\u001b[0m\u001b[1;33m[\u001b[0m\u001b[0mmask\u001b[0m\u001b[1;33m]\u001b[0m\u001b[1;33m)\u001b[0m\u001b[1;33m)\u001b[0m\u001b[1;33m\u001b[0m\u001b[1;33m\u001b[0m\u001b[0m\n\u001b[0m\u001b[0;32m   5341\u001b[0m             \u001b[0mindexer\u001b[0m \u001b[1;33m=\u001b[0m \u001b[0mindexer\u001b[0m\u001b[1;33m[\u001b[0m\u001b[1;33m~\u001b[0m\u001b[0mmask\u001b[0m\u001b[1;33m]\u001b[0m\u001b[1;33m\u001b[0m\u001b[1;33m\u001b[0m\u001b[0m\n\u001b[0;32m   5342\u001b[0m         \u001b[1;32mreturn\u001b[0m \u001b[0mself\u001b[0m\u001b[1;33m.\u001b[0m\u001b[0mdelete\u001b[0m\u001b[1;33m(\u001b[0m\u001b[0mindexer\u001b[0m\u001b[1;33m)\u001b[0m\u001b[1;33m\u001b[0m\u001b[1;33m\u001b[0m\u001b[0m\n",
      "\u001b[1;31mKeyError\u001b[0m: \"['bici_id_usuario'] not found in axis\""
     ]
    }
   ],
   "source": [
    "df_drop = df\n",
    "df_drop.drop(\"bici_id_usuario\", inplace= True, axis = 1) #no me acuerdo cómo quitar múltiples valores."
   ]
  },
  {
   "cell_type": "code",
   "execution_count": 38,
   "metadata": {},
   "outputs": [
    {
     "data": {
      "text/plain": [
       "['bici_Fecha_hora_retiro',\n",
       " 'bici_tiempo_uso',\n",
       " 'bici_nombre_estacion_origen',\n",
       " 'bici_estacion_origen',\n",
       " 'bici_nombre_estacion_destino',\n",
       " 'bici_estacion_destino',\n",
       " 'bici_sexo',\n",
       " 'bici_edad']"
      ]
     },
     "execution_count": 38,
     "metadata": {},
     "output_type": "execute_result"
    }
   ],
   "source": [
    "list(df_drop.columns)"
   ]
  },
  {
   "cell_type": "markdown",
   "metadata": {},
   "source": [
    "# 2) Ya con algunas características del DS en la cabeza, comenzaron a surgirme preguntas.\n",
    "\n",
    "\n",
    "### 1.¿Usaron más el sistema los hombres o las mujeres?\n",
    "### 2. ¿Cómo varía la demanda total durante el año? (estacionalidad)\n",
    "### 3. ¿Cual estación se usó más, y cuál menos?\n",
    "### 4. ¿Qué segmento etario utiliza más el sistema?"
   ]
  },
  {
   "cell_type": "markdown",
   "metadata": {},
   "source": [
    "# 3) Conclusión"
   ]
  },
  {
   "cell_type": "markdown",
   "metadata": {},
   "source": [
    "# 4) DESAFÍOS: ¿Qué otras preguntas se les ocurren para hacerse con este Dataset?\n",
    "Podríamos bajar más datasets y hacer comparaciones interanuales de las variables que estudiamos y/o otras.\n",
    "\n",
    "Podríamos comparar los porcentajes de uso M o F entre BA y otras ciudades, como por ejemplo Amsterdam, ciudad paradigma del uso de la bicileta y de la igualdad."
   ]
  },
  {
   "cell_type": "code",
   "execution_count": null,
   "metadata": {},
   "outputs": [],
   "source": []
  }
 ],
 "metadata": {
  "kernelspec": {
   "display_name": "Python 3",
   "language": "python",
   "name": "python3"
  },
  "language_info": {
   "codemirror_mode": {
    "name": "ipython",
    "version": 3
   },
   "file_extension": ".py",
   "mimetype": "text/x-python",
   "name": "python",
   "nbconvert_exporter": "python",
   "pygments_lexer": "ipython3",
   "version": "3.7.4"
  }
 },
 "nbformat": 4,
 "nbformat_minor": 2
}

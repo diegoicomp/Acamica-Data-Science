{
 "cells": [
  {
   "cell_type": "markdown",
   "metadata": {},
   "source": [
    "# Proyecto 3: Predicción de precios de propiedades"
   ]
  },
  {
   "cell_type": "markdown",
   "metadata": {},
   "source": [
    "¡Bienvenidos al tercer proyecto de la carrera de Data Science de Acamica! \n",
    "\n",
    "En este proyecto vamos a seguir trabajando con el dataset de propiedades en venta publicadas en el portal [Properati](www.properati.com.ar). El objetivo en este caso armar nuestros primeros modelos para predecir el precio de las propiedades en dólares.\n",
    "\n",
    "Las columnas que se agregan son:\n",
    "\n",
    "* `barrios_match`: si coincide el barrio publicado con el geográfico vale 1, si no 0.\n",
    "\n",
    "* `PH`, `apartment`, `house`: variables binarias que indican el tipo de propiedad.\n",
    "\n",
    "* dummies de barrios: variables binarias con 1 o 0 según el barrio.\n",
    "\n",
    "La métrica que vamos a usar para medir es RMSE (raíz del error cuadrático medio), cuya fórmula es:\n",
    "\n",
    "$$RMSE = \\sqrt{\\frac{\\sum_{t=1}^n (\\hat y_t - y_t)^2}{n}}$$"
   ]
  },
  {
   "cell_type": "code",
   "execution_count": 1,
   "metadata": {},
   "outputs": [],
   "source": [
    "import pandas as pd\n",
    "pd.set_option('display.float_format', lambda x: '%.3f' % x)\n",
    "path_dataset = 'dataset/datos_properati_limpios_model.csv'\n",
    "df = pd.read_csv(path_dataset)"
   ]
  },
  {
   "cell_type": "code",
   "execution_count": 2,
   "metadata": {},
   "outputs": [
    {
     "name": "stdout",
     "output_type": "stream",
     "text": [
      "El dataset que vamos a trabajar aquí tiene 6376 observaciones\n"
     ]
    }
   ],
   "source": [
    "print(\"El dataset que vamos a trabajar aquí tiene {} observaciones\".format(df.shape[0]))"
   ]
  },
  {
   "cell_type": "code",
   "execution_count": 3,
   "metadata": {},
   "outputs": [
    {
     "data": {
      "text/html": [
       "<div>\n",
       "<style scoped>\n",
       "    .dataframe tbody tr th:only-of-type {\n",
       "        vertical-align: middle;\n",
       "    }\n",
       "\n",
       "    .dataframe tbody tr th {\n",
       "        vertical-align: top;\n",
       "    }\n",
       "\n",
       "    .dataframe thead th {\n",
       "        text-align: right;\n",
       "    }\n",
       "</style>\n",
       "<table border=\"1\" class=\"dataframe\">\n",
       "  <thead>\n",
       "    <tr style=\"text-align: right;\">\n",
       "      <th></th>\n",
       "      <th>lat</th>\n",
       "      <th>lon</th>\n",
       "      <th>price_aprox_usd</th>\n",
       "      <th>surface_total_in_m2</th>\n",
       "      <th>surface_covered_in_m2</th>\n",
       "      <th>rooms</th>\n",
       "      <th>barrio_match</th>\n",
       "      <th>PH</th>\n",
       "      <th>apartment</th>\n",
       "      <th>house</th>\n",
       "      <th>...</th>\n",
       "      <th>VILLA LUGANO</th>\n",
       "      <th>VILLA LURO</th>\n",
       "      <th>VILLA ORTUZAR</th>\n",
       "      <th>VILLA PUEYRREDON</th>\n",
       "      <th>VILLA REAL</th>\n",
       "      <th>VILLA RIACHUELO</th>\n",
       "      <th>VILLA SANTA RITA</th>\n",
       "      <th>VILLA SOLDATI</th>\n",
       "      <th>VILLA URQUIZA</th>\n",
       "      <th>outlier_price_m2</th>\n",
       "    </tr>\n",
       "  </thead>\n",
       "  <tbody>\n",
       "    <tr>\n",
       "      <td>0</td>\n",
       "      <td>-34.589</td>\n",
       "      <td>-58.417</td>\n",
       "      <td>170000.000</td>\n",
       "      <td>40.000</td>\n",
       "      <td>38.000</td>\n",
       "      <td>1</td>\n",
       "      <td>1</td>\n",
       "      <td>0</td>\n",
       "      <td>1</td>\n",
       "      <td>0</td>\n",
       "      <td>...</td>\n",
       "      <td>0</td>\n",
       "      <td>0</td>\n",
       "      <td>0</td>\n",
       "      <td>0</td>\n",
       "      <td>0</td>\n",
       "      <td>0</td>\n",
       "      <td>0</td>\n",
       "      <td>0</td>\n",
       "      <td>0</td>\n",
       "      <td>0</td>\n",
       "    </tr>\n",
       "    <tr>\n",
       "      <td>1</td>\n",
       "      <td>-34.591</td>\n",
       "      <td>-58.418</td>\n",
       "      <td>90000.000</td>\n",
       "      <td>27.000</td>\n",
       "      <td>27.000</td>\n",
       "      <td>1</td>\n",
       "      <td>1</td>\n",
       "      <td>0</td>\n",
       "      <td>1</td>\n",
       "      <td>0</td>\n",
       "      <td>...</td>\n",
       "      <td>0</td>\n",
       "      <td>0</td>\n",
       "      <td>0</td>\n",
       "      <td>0</td>\n",
       "      <td>0</td>\n",
       "      <td>0</td>\n",
       "      <td>0</td>\n",
       "      <td>0</td>\n",
       "      <td>0</td>\n",
       "      <td>0</td>\n",
       "    </tr>\n",
       "    <tr>\n",
       "      <td>2</td>\n",
       "      <td>-34.587</td>\n",
       "      <td>-58.437</td>\n",
       "      <td>150000.000</td>\n",
       "      <td>44.000</td>\n",
       "      <td>44.000</td>\n",
       "      <td>1</td>\n",
       "      <td>1</td>\n",
       "      <td>0</td>\n",
       "      <td>1</td>\n",
       "      <td>0</td>\n",
       "      <td>...</td>\n",
       "      <td>0</td>\n",
       "      <td>0</td>\n",
       "      <td>0</td>\n",
       "      <td>0</td>\n",
       "      <td>0</td>\n",
       "      <td>0</td>\n",
       "      <td>0</td>\n",
       "      <td>0</td>\n",
       "      <td>0</td>\n",
       "      <td>0</td>\n",
       "    </tr>\n",
       "    <tr>\n",
       "      <td>3</td>\n",
       "      <td>-34.593</td>\n",
       "      <td>-58.428</td>\n",
       "      <td>154000.000</td>\n",
       "      <td>58.000</td>\n",
       "      <td>58.000</td>\n",
       "      <td>2</td>\n",
       "      <td>1</td>\n",
       "      <td>1</td>\n",
       "      <td>0</td>\n",
       "      <td>0</td>\n",
       "      <td>...</td>\n",
       "      <td>0</td>\n",
       "      <td>0</td>\n",
       "      <td>0</td>\n",
       "      <td>0</td>\n",
       "      <td>0</td>\n",
       "      <td>0</td>\n",
       "      <td>0</td>\n",
       "      <td>0</td>\n",
       "      <td>0</td>\n",
       "      <td>0</td>\n",
       "    </tr>\n",
       "    <tr>\n",
       "      <td>4</td>\n",
       "      <td>-34.593</td>\n",
       "      <td>-58.428</td>\n",
       "      <td>154000.000</td>\n",
       "      <td>58.000</td>\n",
       "      <td>58.000</td>\n",
       "      <td>3</td>\n",
       "      <td>1</td>\n",
       "      <td>1</td>\n",
       "      <td>0</td>\n",
       "      <td>0</td>\n",
       "      <td>...</td>\n",
       "      <td>0</td>\n",
       "      <td>0</td>\n",
       "      <td>0</td>\n",
       "      <td>0</td>\n",
       "      <td>0</td>\n",
       "      <td>0</td>\n",
       "      <td>0</td>\n",
       "      <td>0</td>\n",
       "      <td>0</td>\n",
       "      <td>0</td>\n",
       "    </tr>\n",
       "    <tr>\n",
       "      <td>5</td>\n",
       "      <td>-34.567</td>\n",
       "      <td>-58.435</td>\n",
       "      <td>65000.000</td>\n",
       "      <td>22.000</td>\n",
       "      <td>20.000</td>\n",
       "      <td>1</td>\n",
       "      <td>0</td>\n",
       "      <td>0</td>\n",
       "      <td>1</td>\n",
       "      <td>0</td>\n",
       "      <td>...</td>\n",
       "      <td>0</td>\n",
       "      <td>0</td>\n",
       "      <td>0</td>\n",
       "      <td>0</td>\n",
       "      <td>0</td>\n",
       "      <td>0</td>\n",
       "      <td>0</td>\n",
       "      <td>0</td>\n",
       "      <td>0</td>\n",
       "      <td>0</td>\n",
       "    </tr>\n",
       "    <tr>\n",
       "      <td>6</td>\n",
       "      <td>-34.586</td>\n",
       "      <td>-58.437</td>\n",
       "      <td>175000.000</td>\n",
       "      <td>62.000</td>\n",
       "      <td>58.000</td>\n",
       "      <td>3</td>\n",
       "      <td>1</td>\n",
       "      <td>0</td>\n",
       "      <td>1</td>\n",
       "      <td>0</td>\n",
       "      <td>...</td>\n",
       "      <td>0</td>\n",
       "      <td>0</td>\n",
       "      <td>0</td>\n",
       "      <td>0</td>\n",
       "      <td>0</td>\n",
       "      <td>0</td>\n",
       "      <td>0</td>\n",
       "      <td>0</td>\n",
       "      <td>0</td>\n",
       "      <td>0</td>\n",
       "    </tr>\n",
       "    <tr>\n",
       "      <td>7</td>\n",
       "      <td>-34.583</td>\n",
       "      <td>-58.422</td>\n",
       "      <td>95000.000</td>\n",
       "      <td>32.000</td>\n",
       "      <td>32.000</td>\n",
       "      <td>2</td>\n",
       "      <td>1</td>\n",
       "      <td>0</td>\n",
       "      <td>1</td>\n",
       "      <td>0</td>\n",
       "      <td>...</td>\n",
       "      <td>0</td>\n",
       "      <td>0</td>\n",
       "      <td>0</td>\n",
       "      <td>0</td>\n",
       "      <td>0</td>\n",
       "      <td>0</td>\n",
       "      <td>0</td>\n",
       "      <td>0</td>\n",
       "      <td>0</td>\n",
       "      <td>0</td>\n",
       "    </tr>\n",
       "    <tr>\n",
       "      <td>8</td>\n",
       "      <td>-34.576</td>\n",
       "      <td>-58.429</td>\n",
       "      <td>95900.000</td>\n",
       "      <td>77.000</td>\n",
       "      <td>22.000</td>\n",
       "      <td>1</td>\n",
       "      <td>1</td>\n",
       "      <td>0</td>\n",
       "      <td>1</td>\n",
       "      <td>0</td>\n",
       "      <td>...</td>\n",
       "      <td>0</td>\n",
       "      <td>0</td>\n",
       "      <td>0</td>\n",
       "      <td>0</td>\n",
       "      <td>0</td>\n",
       "      <td>0</td>\n",
       "      <td>0</td>\n",
       "      <td>0</td>\n",
       "      <td>0</td>\n",
       "      <td>0</td>\n",
       "    </tr>\n",
       "    <tr>\n",
       "      <td>9</td>\n",
       "      <td>-34.578</td>\n",
       "      <td>-58.413</td>\n",
       "      <td>159000.000</td>\n",
       "      <td>32.000</td>\n",
       "      <td>30.000</td>\n",
       "      <td>1</td>\n",
       "      <td>1</td>\n",
       "      <td>0</td>\n",
       "      <td>1</td>\n",
       "      <td>0</td>\n",
       "      <td>...</td>\n",
       "      <td>0</td>\n",
       "      <td>0</td>\n",
       "      <td>0</td>\n",
       "      <td>0</td>\n",
       "      <td>0</td>\n",
       "      <td>0</td>\n",
       "      <td>0</td>\n",
       "      <td>0</td>\n",
       "      <td>0</td>\n",
       "      <td>0</td>\n",
       "    </tr>\n",
       "  </tbody>\n",
       "</table>\n",
       "<p>10 rows × 59 columns</p>\n",
       "</div>"
      ],
      "text/plain": [
       "      lat     lon  price_aprox_usd  surface_total_in_m2  \\\n",
       "0 -34.589 -58.417       170000.000               40.000   \n",
       "1 -34.591 -58.418        90000.000               27.000   \n",
       "2 -34.587 -58.437       150000.000               44.000   \n",
       "3 -34.593 -58.428       154000.000               58.000   \n",
       "4 -34.593 -58.428       154000.000               58.000   \n",
       "5 -34.567 -58.435        65000.000               22.000   \n",
       "6 -34.586 -58.437       175000.000               62.000   \n",
       "7 -34.583 -58.422        95000.000               32.000   \n",
       "8 -34.576 -58.429        95900.000               77.000   \n",
       "9 -34.578 -58.413       159000.000               32.000   \n",
       "\n",
       "   surface_covered_in_m2  rooms  barrio_match  PH  apartment  house  ...  \\\n",
       "0                 38.000      1             1   0          1      0  ...   \n",
       "1                 27.000      1             1   0          1      0  ...   \n",
       "2                 44.000      1             1   0          1      0  ...   \n",
       "3                 58.000      2             1   1          0      0  ...   \n",
       "4                 58.000      3             1   1          0      0  ...   \n",
       "5                 20.000      1             0   0          1      0  ...   \n",
       "6                 58.000      3             1   0          1      0  ...   \n",
       "7                 32.000      2             1   0          1      0  ...   \n",
       "8                 22.000      1             1   0          1      0  ...   \n",
       "9                 30.000      1             1   0          1      0  ...   \n",
       "\n",
       "   VILLA LUGANO  VILLA LURO  VILLA ORTUZAR  VILLA PUEYRREDON  VILLA REAL  \\\n",
       "0             0           0              0                 0           0   \n",
       "1             0           0              0                 0           0   \n",
       "2             0           0              0                 0           0   \n",
       "3             0           0              0                 0           0   \n",
       "4             0           0              0                 0           0   \n",
       "5             0           0              0                 0           0   \n",
       "6             0           0              0                 0           0   \n",
       "7             0           0              0                 0           0   \n",
       "8             0           0              0                 0           0   \n",
       "9             0           0              0                 0           0   \n",
       "\n",
       "   VILLA RIACHUELO  VILLA SANTA RITA  VILLA SOLDATI  VILLA URQUIZA  \\\n",
       "0                0                 0              0              0   \n",
       "1                0                 0              0              0   \n",
       "2                0                 0              0              0   \n",
       "3                0                 0              0              0   \n",
       "4                0                 0              0              0   \n",
       "5                0                 0              0              0   \n",
       "6                0                 0              0              0   \n",
       "7                0                 0              0              0   \n",
       "8                0                 0              0              0   \n",
       "9                0                 0              0              0   \n",
       "\n",
       "   outlier_price_m2  \n",
       "0                 0  \n",
       "1                 0  \n",
       "2                 0  \n",
       "3                 0  \n",
       "4                 0  \n",
       "5                 0  \n",
       "6                 0  \n",
       "7                 0  \n",
       "8                 0  \n",
       "9                 0  \n",
       "\n",
       "[10 rows x 59 columns]"
      ]
     },
     "execution_count": 3,
     "metadata": {},
     "output_type": "execute_result"
    }
   ],
   "source": [
    "df.head(10)"
   ]
  },
  {
   "cell_type": "code",
   "execution_count": 4,
   "metadata": {},
   "outputs": [
    {
     "data": {
      "text/plain": [
       "(6376, 59)"
      ]
     },
     "execution_count": 4,
     "metadata": {},
     "output_type": "execute_result"
    }
   ],
   "source": [
    "df.shape"
   ]
  },
  {
   "cell_type": "code",
   "execution_count": 5,
   "metadata": {},
   "outputs": [
    {
     "data": {
      "text/plain": [
       "2"
      ]
     },
     "execution_count": 5,
     "metadata": {},
     "output_type": "execute_result"
    }
   ],
   "source": [
    "df.ndim"
   ]
  },
  {
   "cell_type": "markdown",
   "metadata": {},
   "source": [
    "El objetivo de este proyecto es poder trabajar en el ajuste de modelos y su posterior evaluación."
   ]
  },
  {
   "cell_type": "markdown",
   "metadata": {},
   "source": [
    "Para empezar vamos a separar el `dataset` en un conjunto de entrenamiento (80%) y un conjunto de test (20%). \n",
    "\n",
    "**Separá el dataset** en `X_train`, `X_test`, `y_train` e `y_test` con el tamaño correspondiente"
   ]
  },
  {
   "cell_type": "code",
   "execution_count": 6,
   "metadata": {},
   "outputs": [
    {
     "name": "stdout",
     "output_type": "stream",
     "text": [
      "Train test size:  (5100, 58)\n",
      "Test train size:  (1276, 58)\n"
     ]
    }
   ],
   "source": [
    "X = df.drop(['price_aprox_usd'], axis=1) #esto quita a la columna target\n",
    "y = df['price_aprox_usd'] #esta es la columna target\n",
    "\n",
    "# Realizá la separación a continuación en esta celda\n",
    "from sklearn.model_selection import train_test_split #importar módulo Skl\n",
    "\n",
    "X_train, X_test, y_train, y_test = train_test_split (X,y, test_size=0.2) #separa conjuntos \n",
    "\n",
    "print(\"Train test size: \", X_train.shape)\n",
    "print(\"Test train size: \", X_test.shape)\n",
    "\n"
   ]
  },
  {
   "cell_type": "markdown",
   "metadata": {},
   "source": [
    "Nota: podemos observar el número de filas para cada conjunto y además notar que hay una columna menos (58), ya que \"price_aprox_usd\" es utilizada como TARGET."
   ]
  },
  {
   "cell_type": "markdown",
   "metadata": {},
   "source": [
    "## Árboles de decisión\n",
    "\n",
    "Lo primero que vamos a hacer es entrenar un árbol de decisión y usar de métrica al `RMSE`. \n",
    "\n",
    "Para poder obtener el **RMSE** vamos a medir el `mean_squared_error` y obtener su raíz cuadrada. \n",
    "\n",
    "**Importá** `DecisionTreeRegressor` desde `sklearn.tree`.  \n",
    "\n",
    "A continuación **entrená** el regresor con el conjunto de training\n"
   ]
  },
  {
   "cell_type": "code",
   "execution_count": 7,
   "metadata": {},
   "outputs": [
    {
     "data": {
      "text/plain": [
       "DecisionTreeRegressor(criterion='mse', max_depth=None, max_features=None,\n",
       "                      max_leaf_nodes=None, min_impurity_decrease=0.0,\n",
       "                      min_impurity_split=None, min_samples_leaf=1,\n",
       "                      min_samples_split=2, min_weight_fraction_leaf=0.0,\n",
       "                      presort=False, random_state=None, splitter='best')"
      ]
     },
     "execution_count": 7,
     "metadata": {},
     "output_type": "execute_result"
    }
   ],
   "source": [
    "# En esta celda cargá el regresor y realizá el entrenamiento\n",
    "from sklearn.tree import DecisionTreeRegressor\n",
    "\n",
    "tree_reg = DecisionTreeRegressor() #asigna el DTRegressor a tree_reg. Es regressor porque es una variable continua (precios).\n",
    "tree_reg.fit(X_train, y_train) #entrena en los dos conjuntos"
   ]
  },
  {
   "cell_type": "markdown",
   "metadata": {},
   "source": [
    "Con el modelo entrenado **realizá la predicción** sobre el conjunto de test `X_test` y guardá el resultado en una variable `y_pred`."
   ]
  },
  {
   "cell_type": "code",
   "execution_count": 8,
   "metadata": {},
   "outputs": [],
   "source": [
    "# Acá realizá la predicción\n",
    "y_pred = tree_reg.predict(X_test)"
   ]
  },
  {
   "cell_type": "markdown",
   "metadata": {},
   "source": [
    "**Calculá el rmse** sacando la raíz cuadrada de `mean_squared_error` entre `y_test` e `y_pred` y **mostrá** el resultado"
   ]
  },
  {
   "cell_type": "code",
   "execution_count": 9,
   "metadata": {},
   "outputs": [
    {
     "name": "stdout",
     "output_type": "stream",
     "text": [
      "RSME:  24294.503377239806\n"
     ]
    }
   ],
   "source": [
    "# En esta celda calculá el rmse\n",
    "from sklearn.metrics import mean_squared_error\n",
    "import numpy as np\n",
    "\n",
    "tree_mse = mean_squared_error(y_test, y_pred) #error cuadrático medio\n",
    "tree_rmse = np.sqrt(tree_mse) #para sacar la raíz cuadrada\n",
    "print(\"RSME: \", tree_rmse)"
   ]
  },
  {
   "cell_type": "markdown",
   "metadata": {},
   "source": [
    "__Analizar el cambio en el RMSE a medida que es más profundo el árbol de decisión, tanto en training como en testing.__\n",
    "\n",
    "Para esto, **iterá** de 5 en 5 en el parámetro `max_depth` y **observá** como impacta en el RMSE. \n",
    "\n",
    "**Creá** dos arreglos `rmses_train` y `rmses_test` para ir guardando los **rmse** de cada profundidad"
   ]
  },
  {
   "cell_type": "markdown",
   "metadata": {},
   "source": [
    "Ahora graficamos los valores que guardamos en los arreglos `rmses_train` y `rmses_test`"
   ]
  },
  {
   "cell_type": "code",
   "execution_count": 10,
   "metadata": {},
   "outputs": [],
   "source": [
    "rmses_train = []\n",
    "rmses_test= []\n",
    "\n",
    "profundidad = [5, 10, 15, 20, 25, 30]\n",
    "for value in profundidad:\n",
    "    #asigna las profundidades del árbol mediante el loop\n",
    "    deep_reg_tree = DecisionTreeRegressor(max_depth=value)\n",
    "    \n",
    "    #entrena el modelo   \n",
    "    deep_reg_tree.fit(X_train, y_train) \n",
    "    \n",
    "    #predice sobre X_test, sacando el MSE y RMSE sobre y_test e y_pred_test\n",
    "    y_pred_test = deep_reg_tree.predict(X_test) \n",
    "    tree_mse_test = mean_squared_error(y_test, y_pred_test)\n",
    "    tree_rmse_test = np.sqrt(tree_mse_test)\n",
    "    \n",
    "    #predice sobre X_train, sacando el MSE y RMSE sobre y_test e y_pred_test\n",
    "    y_pred_train = deep_reg_tree.predict(X_train)\n",
    "    tree_mse_train = mean_squared_error(y_train, y_pred_train)\n",
    "    tree_rmse_train = np.sqrt(tree_mse_train)\n",
    "    \n",
    "    rmses_train.append(tree_rmse_train) #agrega la información a las listas de arriba\n",
    "    rmses_test.append(tree_rmse_test) #agrega la información a las listas de arriba"
   ]
  },
  {
   "cell_type": "code",
   "execution_count": 11,
   "metadata": {
    "scrolled": true
   },
   "outputs": [
    {
     "data": {
      "image/png": "[encoded data removed]",
      "text/plain": [
       "<Figure size 432x288 with 1 Axes>"
      ]
     },
     "metadata": {
      "needs_background": "light"
     },
     "output_type": "display_data"
    }
   ],
   "source": [
    "import matplotlib.pyplot as plt\n",
    "%matplotlib inline \n",
    "plt.plot(range(1,30, 5), rmses_train, label='RMSE Training')\n",
    "plt.plot(range(1,30, 5), rmses_test, label='RMSE Testing')\n",
    "plt.ylim((0, 30000))\n",
    "plt.legend(loc=\"best\")\n",
    "plt.title(\"RMSE Training vs RMSE Testing para árboles de decisión\")\n",
    "plt.show()"
   ]
  },
  {
   "cell_type": "markdown",
   "metadata": {},
   "source": [
    "Podemos ver aquí como el modelo presenta sobreajuste dado que a mayor complejidad (en este caso, mayor profundidad del árbol) más diferencia entre los resultados de training y testing. También observamos como la curva de testing decrece y luego vuelvo a crecer. El punto donde se minimiza está relacionado con el tradeoff entre sesgo y varianza que vamos a ver en la próxima unidad."
   ]
  },
  {
   "cell_type": "markdown",
   "metadata": {},
   "source": [
    "## KNN"
   ]
  },
  {
   "cell_type": "markdown",
   "metadata": {},
   "source": [
    "**Entrená un knn** y nuevamente medir el **rmse** en el conjunto de testing\n"
   ]
  },
  {
   "cell_type": "code",
   "execution_count": 12,
   "metadata": {},
   "outputs": [],
   "source": [
    "# Realizá el entrenamiento y el cálculo de rmse en esta celda\n",
    "\n",
    "from sklearn.neighbors import KNeighborsRegressor #importa la clase\n",
    "\n",
    "knn = KNeighborsRegressor() #instancia el estimador. Acá se pueden tocar los hiperparámetros.\n",
    "modelo = knn.fit(X_train, y_train) #entrena el modelo\n",
    "y_predict = modelo.predict(X_test)"
   ]
  },
  {
   "cell_type": "code",
   "execution_count": 13,
   "metadata": {},
   "outputs": [
    {
     "name": "stdout",
     "output_type": "stream",
     "text": [
      "RSME:  23400.507510164327\n"
     ]
    }
   ],
   "source": [
    "knn_mse = mean_squared_error(y_test, y_predict)\n",
    "\n",
    "knn_mse = mean_squared_error(y_test, y_predict) #error cuadrático medio\n",
    "knn_rmse = np.sqrt(knn_mse) #para sacar la raíz cuadrada\n",
    "print(\"RSME: \", knn_rmse)"
   ]
  },
  {
   "cell_type": "markdown",
   "metadata": {},
   "source": [
    "__Analizar el cambio en el RMSE a medida que consideramos más vecinos para KNN, tanto en training como en testing.__\n",
    "\n",
    "Para esto, **iterá** incrementando de a uno el parámetro `n_neighbors` y **observá** como impacta en el RMSE. \n",
    "\n",
    "**Creá** dos arreglos `rmses_train` y `rmses_test` para ir guardando los **rmse** de cada profundidad"
   ]
  },
  {
   "cell_type": "code",
   "execution_count": 16,
   "metadata": {},
   "outputs": [],
   "source": [
    "# Calculá los cambio en el rmse en esta celda\n",
    "\n",
    "rmses_train = []\n",
    "rmses_test= []\n",
    "\n",
    "kvecinos = (range(1,30,1))\n",
    "for k in kvecinos:\n",
    "    #asigna las profundidades del árbol mediante el loop\n",
    "    kneighbors_reg = KNeighborsRegressor(n_neighbors=k)\n",
    "    \n",
    "    #entrena el modelo   \n",
    "    kneighbors_reg.fit(X_train, y_train) \n",
    "    \n",
    "    #predice sobre X_test, sacando el MSE y RMSE sobre y_test e y_pred_test\n",
    "    y_pred_test = kneighbors_reg.predict(X_test) \n",
    "    kn_mse_test = mean_squared_error(y_test, y_pred_test)\n",
    "    kn_rmse_test = np.sqrt(kn_mse_test)\n",
    "    \n",
    "    #predice sobre X_train, sacando el MSE y RMSE sobre y_test e y_pred_test\n",
    "    y_pred_train = kneighbors_reg.predict(X_train)\n",
    "    kn_mse_train = mean_squared_error(y_train, y_pred_train)\n",
    "    kn_rmse_train = np.sqrt(kn_mse_train)\n",
    "    \n",
    "    rmses_train.append(kn_rmse_train) #agrega la información a las listas de arriba\n",
    "    rmses_test.append(kn_rmse_test) #agrega la información a las listas de arriba\n"
   ]
  },
  {
   "cell_type": "code",
   "execution_count": 17,
   "metadata": {},
   "outputs": [
    {
     "data": {
      "image/png": "[encoded data removed]",
      "text/plain": [
       "<Figure size 432x288 with 1 Axes>"
      ]
     },
     "metadata": {
      "needs_background": "light"
     },
     "output_type": "display_data"
    }
   ],
   "source": [
    "plt.plot(range(1,30, 1), rmses_train, label='RMSE Training')\n",
    "plt.plot(range(1,30, 1), rmses_test, label='RMSE Testing')\n",
    "plt.ylim((0, 30000))\n",
    "plt.legend(loc=\"best\")\n",
    "plt.title(\"RMSE Training vs RMSE Testing para KNN\")\n",
    "plt.show()"
   ]
  },
  {
   "cell_type": "markdown",
   "metadata": {},
   "source": [
    "**Calcular el RMSE promedio del resultado de cross validation para un árbol de decisión. \n",
    "Como parámetros deberás usar:**\n",
    "- 10 folds\n",
    "- profundidad 5\n",
    "- scoring neg_mean_squared_error.\n",
    "\n",
    "El árbol de decisión guardalo en una variable llamada `regressor` para poder reutilizarla luego.\n",
    "\n",
    "Atención: `cross_validation_score` de `scikit-learn` usá la métrica `neg_mean_squared_error` (NMSE) en vez de `mean_square_error` (MSE). \n",
    "\n",
    "`NMSE` es lo mismo que `MSE` pero con un signo negativo. \n",
    "\n",
    "Como nosotros queremos obtener el `MSE` para calcular sobre él el `RMSE`, vamos a definir un método `nmsq2rmse` para hacer esa conversión de `NMSE` a `MSE`\n",
    "."
   ]
  },
  {
   "cell_type": "code",
   "execution_count": null,
   "metadata": {},
   "outputs": [],
   "source": [
    "def nmsq2rmse(score):\n",
    "    return np.sqrt(-score)"
   ]
  },
  {
   "cell_type": "code",
   "execution_count": null,
   "metadata": {},
   "outputs": [],
   "source": [
    "# Calculá en esta celda los cross_val_score"
   ]
  },
  {
   "cell_type": "markdown",
   "metadata": {},
   "source": [
    "Para ver el resultado final, reentrenamos al regresor y mostramos en un dataframe la comparación entre los valores reales, los predichos y su diferencia"
   ]
  },
  {
   "cell_type": "code",
   "execution_count": null,
   "metadata": {},
   "outputs": [],
   "source": [
    "regressor.fit(X_train, y_train)\n",
    "y_pred = regressor.predict(X_test)\n",
    "val_real = pd.Series(y_test.values)\n",
    "val_pred = pd.Series(y_pred)"
   ]
  },
  {
   "cell_type": "code",
   "execution_count": null,
   "metadata": {},
   "outputs": [],
   "source": [
    "predicciones = pd.concat([val_real.rename('Valor real'),val_pred.rename('Valor Pred') ,abs(val_real-val_pred).rename('Dif(+/-)')] ,  axis=1)"
   ]
  },
  {
   "cell_type": "code",
   "execution_count": null,
   "metadata": {},
   "outputs": [],
   "source": [
    "predicciones.head(10)"
   ]
  }
 ],
 "metadata": {
  "kernelspec": {
   "display_name": "Python 3",
   "language": "python",
   "name": "python3"
  },
  "language_info": {
   "codemirror_mode": {
    "name": "ipython",
    "version": 3
   },
   "file_extension": ".py",
   "mimetype": "text/x-python",
   "name": "python",
   "nbconvert_exporter": "python",
   "pygments_lexer": "ipython3",
   "version": "3.7.4"
  }
 },
 "nbformat": 4,
 "nbformat_minor": 2
}

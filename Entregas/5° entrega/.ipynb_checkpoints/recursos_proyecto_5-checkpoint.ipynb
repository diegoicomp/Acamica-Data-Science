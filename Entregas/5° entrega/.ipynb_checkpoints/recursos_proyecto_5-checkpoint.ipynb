{
 "cells": [
  {
   "cell_type": "markdown",
   "metadata": {},
   "source": [
    "# Proyecto 5: Análisis de sentimiento en reviews de películas"
   ]
  },
  {
   "cell_type": "markdown",
   "metadata": {},
   "source": [
    "En este proyecto vamos a trabajar con un dataset de reviews de películas. El objectivo es clasificar cada comentario de acuerdo al sentimiento positivo o negativo hacia la película. Para hacerlo, vamos a trabajar con procesamiento de texto para luego aplicar las diferentes técnicas predictivas que hemos visto."
   ]
  },
  {
   "cell_type": "markdown",
   "metadata": {},
   "source": [
    "## Dataset"
   ]
  },
  {
   "cell_type": "markdown",
   "metadata": {},
   "source": [
    "En primer lugar, carguemos las reviews para comenzar a procesarlas. En este caso no tenemos un archivo `.csv`, sino un directorio estructurado de la siguiente forma: \n",
    "```\n",
    "movie_reviews/\n",
    "  neg/\n",
    "  pos/\n",
    "```\n",
    "`sklearn` nos provee de la función `load_files` que permite recorrer este tipo de estructuras. "
   ]
  },
  {
   "cell_type": "code",
   "execution_count": 1,
   "metadata": {},
   "outputs": [],
   "source": [
    "import warnings\n",
    "warnings.filterwarnings(\"ignore\")\n",
    "import sklearn\n",
    "from sklearn.datasets import load_files\n",
    "moviedir = r'./dataset/movie_reviews' \n",
    "movie_reviews = load_files(moviedir, shuffle=True)"
   ]
  },
  {
   "cell_type": "markdown",
   "metadata": {},
   "source": [
    "Ahora en la variable `movies` tendremos guardadas las reviews (`movies.data`) y su sentimiento (`movies.target`).\n",
    "Veamos cuantas reviews tenemos en total:"
   ]
  },
  {
   "cell_type": "code",
   "execution_count": 2,
   "metadata": {},
   "outputs": [
    {
     "name": "stdout",
     "output_type": "stream",
     "text": [
      "Tenemos 2000 reviews, con clases ['neg', 'pos'],\n"
     ]
    }
   ],
   "source": [
    "print(\"Tenemos {} reviews, con clases {},\".format(len(movie_reviews.data), movie_reviews.target_names))"
   ]
  },
  {
   "cell_type": "markdown",
   "metadata": {},
   "source": [
    "Analizando la estructura de los documentos, veamos como luce una muestra de `movies.data`:"
   ]
  },
  {
   "cell_type": "code",
   "execution_count": 3,
   "metadata": {},
   "outputs": [
    {
     "data": {
      "text/plain": [
       "b\"arnold schwarzenegger has been an icon for action enthusiasts , since the late 80's , but lately his films have been very sloppy and the one-liners are getting worse . \\nit's hard seeing arnold as mr . freeze in batman and robin , especially when he says tons of ice jokes , but hey he got 15 million , what's it matter to him ? \\nonce again arnold has signed to do another expensive blockbuster , that can't compare with the likes of the terminator series , true lies and even eraser . \\nin this so cal\""
      ]
     },
     "execution_count": 3,
     "metadata": {},
     "output_type": "execute_result"
    }
   ],
   "source": [
    "movie_reviews.data[0][:500]"
   ]
  },
  {
   "cell_type": "markdown",
   "metadata": {},
   "source": [
    "Y ahora, con la propiedad `target` podemos ver la categoría asociada a esta review"
   ]
  },
  {
   "cell_type": "code",
   "execution_count": 4,
   "metadata": {},
   "outputs": [
    {
     "data": {
      "text/plain": [
       "0"
      ]
     },
     "execution_count": 4,
     "metadata": {},
     "output_type": "execute_result"
    }
   ],
   "source": [
    "movie_reviews.target[0]"
   ]
  },
  {
   "cell_type": "markdown",
   "metadata": {},
   "source": [
    "En este caso es un 0, es decir `neg`."
   ]
  },
  {
   "cell_type": "markdown",
   "metadata": {},
   "source": [
    "## Separando en conjuntos de entrenamiento y de testeo"
   ]
  },
  {
   "cell_type": "markdown",
   "metadata": {},
   "source": [
    "Antes de comenzar con el entrenamiento de los modelos probando distintos algoritmos para encontrar los mejores modelos, vamos a separar el conjunto de reviews en training y testing. "
   ]
  },
  {
   "cell_type": "code",
   "execution_count": 5,
   "metadata": {},
   "outputs": [],
   "source": [
    "from sklearn.model_selection import train_test_split\n",
    "X_train, X_test, y_train, y_test = train_test_split(\n",
    "    movie_reviews.data, movie_reviews.target, test_size = 0.20, stratify=movie_reviews.target, random_state = 12)"
   ]
  },
  {
   "cell_type": "markdown",
   "metadata": {},
   "source": [
    "## Preprocesamiento"
   ]
  },
  {
   "cell_type": "markdown",
   "metadata": {},
   "source": [
    "Para trabajar con texto tenemos que realizar una serie de pasos antes de poder entrenar un modelo. Es decir, buscar la forma de convertir el texto a una representación numérica que pueda ser interpretable por los algoritmos de clasificación. \n",
    "Para ello vamos a realizar una serie de pasos.\n",
    "- Tokenizar el texto\n",
    "- Convertir a vectores de términos/documentos\n",
    "- Aplicar tfidf\n"
   ]
  },
  {
   "cell_type": "markdown",
   "metadata": {},
   "source": [
    "Es importante destacar que el `fit` debe hacerse sobre el conjunto de `train` y no sobre el total, ya que `tfidf` tiene en cuenta la frecuencia de aparición de las palabras respecto al total del conjunto. Una vez que usamos el `fit` con el conjunto de entrenamiento podemos aplicar la transformación al conjunto de `test`. "
   ]
  },
  {
   "cell_type": "markdown",
   "metadata": {},
   "source": [
    "**1) Vectorizá** los textos para obtener una matriz de términos/documentos utilizando td-idf. "
   ]
  },
  {
   "cell_type": "code",
   "execution_count": 6,
   "metadata": {},
   "outputs": [],
   "source": [
    "from sklearn.feature_extraction.text import TfidfVectorizer\n",
    "from nltk.corpus import stopwords\n",
    "stops = set(stopwords.words('english'))\n",
    "#A esto no le falta la tokenización?"
   ]
  },
  {
   "cell_type": "code",
   "execution_count": 7,
   "metadata": {},
   "outputs": [],
   "source": [
    "# Realizá los pasos necesarios para vectorizar los conjuntos de entrenamiento y testeo en este celda\n",
    "vectorizer = TfidfVectorizer(stop_words=stops)\n",
    "vectorizer.fit(X_train)\n",
    "X_train = vectorizer.transform(X_train) \n",
    "X_test = vectorizer.transform(X_test) "
   ]
  },
  {
   "cell_type": "markdown",
   "metadata": {},
   "source": [
    "### Dimensión de la matriz de términos\n",
    "Una vez vectorizados los documentos veamos qué forma tiene la matriz resultante"
   ]
  },
  {
   "cell_type": "code",
   "execution_count": 8,
   "metadata": {},
   "outputs": [
    {
     "data": {
      "text/plain": [
       "(1600, 36199)"
      ]
     },
     "execution_count": 8,
     "metadata": {},
     "output_type": "execute_result"
    }
   ],
   "source": [
    "X_train.shape"
   ]
  },
  {
   "cell_type": "markdown",
   "metadata": {},
   "source": [
    "__¿ Por qué tiene estas dimensiones ?__"
   ]
  },
  {
   "cell_type": "markdown",
   "metadata": {},
   "source": [
    "Porque el resultado es una matriz de términos por documentos. Por cada término existente en el dataset habrá una columna, ya que no se realizó ningún tipo de filtrado."
   ]
  },
  {
   "cell_type": "markdown",
   "metadata": {},
   "source": [
    "## Entrenando los modelos\n",
    "Una vez que tenemos una matriz con los vectores correspondientes a los documentos luego de aplicarse td-idf podemos comenzar con el proceso de entrenamiento de los modelos. Para eso, vamos a comparar diferentes algoritmos vistos como SVM, Random Forest, AdaBoost, Voting. Y todos los algoritmos complementarios que se quieran introducir. \n",
    "Para el entrenamiento de los modelos usaremos GridSearch recorriendo una lista de parámetros según corresponda a cada algoritmo. Además usaremos 5-fold CV y el scoring estará dado por el área bajo la curva roc."
   ]
  },
  {
   "cell_type": "markdown",
   "metadata": {},
   "source": [
    "### Support Vector Machines (SVM)"
   ]
  },
  {
   "cell_type": "markdown",
   "metadata": {},
   "source": [
    "__Ajustar un SVM (kernel lineal) al conjunto de datos de entrenamiento y devolver la matriz de confusión en testing.__\n",
    "\n",
    "Basándonos en el paper https://www.csie.ntu.edu.tw/~cjlin/papers/guide/guide.pdf, vamos a utilizar un kernel lineal. Al tener menos instancias que features este es el procedimiento recomendado. \n",
    "\n",
    "Nuestro espacio de parámetros para recorrer de forma exhaustiva utilizando GridSearch será el siguiente:\n",
    "\n",
    "* C = [0.001, 0.01, 0.1, 1, 10]\n",
    "* loss = ['hinge', 'squared_hinge'] \n",
    "\n",
    "**2) Entrenar** un modelo utilizando `Grid Search` y el clasificador `LinearSVC` con `5-fold` cross validation y que utilice como `scoring` el área bajo la curva roc."
   ]
  },
  {
   "cell_type": "code",
   "execution_count": 9,
   "metadata": {},
   "outputs": [
    {
     "data": {
      "text/plain": [
       "GridSearchCV(cv=5, error_score=nan,\n",
       "             estimator=LinearSVC(C=1.0, class_weight=None, dual=True,\n",
       "                                 fit_intercept=True, intercept_scaling=1,\n",
       "                                 loss='squared_hinge', max_iter=1000,\n",
       "                                 multi_class='ovr', penalty='l2',\n",
       "                                 random_state=None, tol=0.0001, verbose=0),\n",
       "             iid='deprecated', n_jobs=None,\n",
       "             param_grid={'C': [0.001, 0.01, 0.1, 1, 10],\n",
       "                         'loss': ['hinge', 'squared_hinge']},\n",
       "             pre_dispatch='2*n_jobs', refit=True, return_train_score=True,\n",
       "             scoring='roc_auc', verbose=0)"
      ]
     },
     "execution_count": 9,
     "metadata": {},
     "output_type": "execute_result"
    }
   ],
   "source": [
    "# Realizá el entrenamiento en esta celda\n",
    "from sklearn.model_selection import GridSearchCV\n",
    "from sklearn.svm import LinearSVC\n",
    "\n",
    "svc = LinearSVC()\n",
    "param_grid = {'C': [0.001, 0.01, 0.1, 1, 10], 'loss' : ['hinge', 'squared_hinge']}\n",
    "grid_search = GridSearchCV(svc, param_grid, cv=5, scoring='roc_auc', return_train_score=True)\n",
    "grid_search.fit(X_train, y_train)"
   ]
  },
  {
   "cell_type": "markdown",
   "metadata": {},
   "source": [
    "Veamos los resultados promediados por cada combinación de parámetros:"
   ]
  },
  {
   "cell_type": "code",
   "execution_count": 10,
   "metadata": {},
   "outputs": [
    {
     "data": {
      "text/plain": [
       "[0.9850371093749999,\n",
       " 0.9850371093749999,\n",
       " 0.9850371093749999,\n",
       " 0.9854375000000001,\n",
       " 0.9883046875,\n",
       " 0.9982001953124999,\n",
       " 0.99987939453125,\n",
       " 1.0,\n",
       " 1.0,\n",
       " 1.0]"
      ]
     },
     "execution_count": 10,
     "metadata": {},
     "output_type": "execute_result"
    }
   ],
   "source": [
    "sorted(grid_search.cv_results_['mean_train_score'])"
   ]
  },
  {
   "cell_type": "code",
   "execution_count": 11,
   "metadata": {},
   "outputs": [
    {
     "data": {
      "text/plain": [
       "[0.88340625,\n",
       " 0.88340625,\n",
       " 0.88340625,\n",
       " 0.8838125,\n",
       " 0.8877109375,\n",
       " 0.9059531249999999,\n",
       " 0.9202578125,\n",
       " 0.9206562500000001,\n",
       " 0.920890625,\n",
       " 0.9218515625]"
      ]
     },
     "execution_count": 11,
     "metadata": {},
     "output_type": "execute_result"
    }
   ],
   "source": [
    "sorted(grid_search.cv_results_['mean_test_score'])"
   ]
  },
  {
   "cell_type": "code",
   "execution_count": 12,
   "metadata": {},
   "outputs": [
    {
     "data": {
      "text/plain": [
       "{'C': 1, 'loss': 'squared_hinge'}"
      ]
     },
     "execution_count": 12,
     "metadata": {},
     "output_type": "execute_result"
    }
   ],
   "source": [
    "grid_search.best_params_"
   ]
  },
  {
   "cell_type": "code",
   "execution_count": 13,
   "metadata": {},
   "outputs": [],
   "source": [
    "optimised_svm = grid_search.best_estimator_"
   ]
  },
  {
   "cell_type": "markdown",
   "metadata": {},
   "source": [
    "## Matriz de confusión \n",
    "Una forma de ver fácilmente el resultado de un clasificador es utilizando una matriz de confusión. A continuación\n",
    "se presenta una función para visualizar una matriz de confusión utilizando `matplotlib`."
   ]
  },
  {
   "cell_type": "code",
   "execution_count": 14,
   "metadata": {},
   "outputs": [],
   "source": [
    "import numpy as np\n",
    "import itertools\n",
    "import matplotlib.pylab as plt\n",
    "def plot_confusion_matrix(cm, classes,\n",
    "                          normalize=False,\n",
    "                          title='Confusion matrix',\n",
    "                          cmap=plt.cm.Blues):\n",
    "    \"\"\"\n",
    "    This function prints and plots the confusion matrix.\n",
    "    Normalization can be applied by setting `normalize=True`.\n",
    "    \"\"\"\n",
    "    if normalize:\n",
    "        cm = cm.astype('float') / cm.sum(axis=1)[:, np.newaxis]\n",
    "        print(\"Normalized confusion matrix\")\n",
    "    else:\n",
    "        print('Confusion matrix, without normalization')\n",
    "\n",
    "    print(cm)\n",
    "\n",
    "    plt.imshow(cm, interpolation='nearest', cmap=cmap)\n",
    "    plt.title(title)\n",
    "    plt.colorbar()\n",
    "    tick_marks = np.arange(len(classes))\n",
    "    plt.xticks(tick_marks, classes, rotation=45)\n",
    "    plt.yticks(tick_marks, classes)\n",
    "\n",
    "    fmt = '.2f' if normalize else 'd'\n",
    "    thresh = cm.max() / 2.\n",
    "    for i, j in itertools.product(range(cm.shape[0]), range(cm.shape[1])):\n",
    "        plt.text(j, i, format(cm[i, j], fmt),\n",
    "                 horizontalalignment=\"center\",\n",
    "                 color=\"white\" if cm[i, j] > thresh else \"black\")\n",
    "\n",
    "    plt.tight_layout()\n",
    "    plt.ylabel('True label')\n",
    "    plt.xlabel('Predicted label')\n",
    "    plt.show()\n",
    "\n"
   ]
  },
  {
   "cell_type": "markdown",
   "metadata": {},
   "source": [
    "**3) Mostrá** los resultados de la predicción del clasificador `LinearSVC` sobre el conjunto de test con una matriz de confusión"
   ]
  },
  {
   "cell_type": "code",
   "execution_count": 15,
   "metadata": {},
   "outputs": [
    {
     "name": "stdout",
     "output_type": "stream",
     "text": [
      "Confusion matrix, without normalization\n",
      "[[162  30]\n",
      " [ 38 170]]\n"
     ]
    },
    {
     "data": {
      "image/png": "[encoded data removed]",
      "text/plain": [
       "<Figure size 432x288 with 2 Axes>"
      ]
     },
     "metadata": {
      "needs_background": "light"
     },
     "output_type": "display_data"
    }
   ],
   "source": [
    "# Mostrá la matriz de confusión en esta celda\n",
    "from sklearn.metrics import confusion_matrix\n",
    "y_pred = optimised_svm.predict(X_test)\n",
    "plot_confusion_matrix(confusion_matrix(y_pred, y_test),['neg','pos'])"
   ]
  },
  {
   "cell_type": "markdown",
   "metadata": {},
   "source": [
    "**4) Calcular** el área bajo la curva ROC (AUC) en el conjunto de testing para el modelo y mostrá el `classification_report`"
   ]
  },
  {
   "cell_type": "code",
   "execution_count": 16,
   "metadata": {},
   "outputs": [
    {
     "name": "stdout",
     "output_type": "stream",
     "text": [
      "El score AUC es: 0.931900\n",
      "\n",
      "\n",
      "Classification Report: \n",
      "\n",
      "              precision    recall  f1-score   support\n",
      "\n",
      "           0       0.84      0.81      0.83       200\n",
      "           1       0.82      0.85      0.83       200\n",
      "\n",
      "    accuracy                           0.83       400\n",
      "   macro avg       0.83      0.83      0.83       400\n",
      "weighted avg       0.83      0.83      0.83       400\n",
      "\n"
     ]
    }
   ],
   "source": [
    "# Mostrá el roc_auc score y el classification_report en esta celda\n",
    "from sklearn.metrics import classification_report\n",
    "from sklearn.metrics import roc_auc_score\n",
    "\n",
    "y_pred_improv = optimised_svm.decision_function(X_test)\n",
    "roc_svc = roc_auc_score(y_test, y_pred_improv)\n",
    "\n",
    "print('El score AUC es: %f' %(roc_svc))\n",
    "print('\\n\\nClassification Report: \\n\\n' +  classification_report(y_test, y_pred))"
   ]
  },
  {
   "cell_type": "markdown",
   "metadata": {},
   "source": [
    "### Random Forests\n",
    "El siguiente modelo que vamos a entrenar es utilizando la técnica de Random Forest. "
   ]
  },
  {
   "cell_type": "markdown",
   "metadata": {},
   "source": [
    "__5) Usando grid search__ con cross validation (5 folds), encontrar el mejor modelo según el AUC dado el siguiente espacio de búsqueda:\n",
    "\n",
    "* n_estimators = [100, 500, 1000]\n",
    "* max_depth: [3, 7, None]\n",
    "* min_samples_split: [2, 3, 10]\n",
    "* bootstrap: [True, False]\n",
    "* criterion: [\"gini\", \"entropy\"]\n",
    "\n",
    "(puede tardar un poco la ejecución dado el tamaño del dataset)"
   ]
  },
  {
   "cell_type": "code",
   "execution_count": 17,
   "metadata": {},
   "outputs": [
    {
     "data": {
      "text/plain": [
       "GridSearchCV(cv=5, error_score=nan,\n",
       "             estimator=RandomForestClassifier(bootstrap=True, ccp_alpha=0.0,\n",
       "                                              class_weight=None,\n",
       "                                              criterion='gini', max_depth=None,\n",
       "                                              max_features='auto',\n",
       "                                              max_leaf_nodes=None,\n",
       "                                              max_samples=None,\n",
       "                                              min_impurity_decrease=0.0,\n",
       "                                              min_impurity_split=None,\n",
       "                                              min_samples_leaf=1,\n",
       "                                              min_samples_split=2,\n",
       "                                              min_weight_fraction_leaf=0.0,\n",
       "                                              n_estimators=100, n_jobs=None,\n",
       "                                              oob_score=False,\n",
       "                                              random_state=None, verbose=0,\n",
       "                                              warm_start=False),\n",
       "             iid='deprecated', n_jobs=-1,\n",
       "             param_grid={'bootstrap': [True, False],\n",
       "                         'criterion': ['gini', 'entropy'],\n",
       "                         'max_depth': [3, 7, None],\n",
       "                         'min_samples_split': [2, 3, 10],\n",
       "                         'n_estimators': [100, 500, 1000]},\n",
       "             pre_dispatch='2*n_jobs', refit=True, return_train_score=True,\n",
       "             scoring='roc_auc', verbose=0)"
      ]
     },
     "execution_count": 17,
     "metadata": {},
     "output_type": "execute_result"
    }
   ],
   "source": [
    "# entrenar el modelo en esta celda\n",
    "from sklearn.ensemble import RandomForestClassifier\n",
    "\n",
    "parameters = {\n",
    "                'n_estimators': [100, 500, 1000],\n",
    "                'max_depth': [3, 7, None],\n",
    "                'min_samples_split': [2, 3, 10],\n",
    "                'bootstrap': [True, False],\n",
    "                'criterion': [\"gini\", \"entropy\"],\n",
    "}\n",
    "\n",
    "\n",
    "random_forest = RandomForestClassifier()\n",
    "\n",
    "grid_search = GridSearchCV(random_forest, param_grid=parameters, scoring='roc_auc', cv=5, n_jobs=-1, return_train_score=True )\n",
    "grid_search.fit(X_train, y_train)"
   ]
  },
  {
   "cell_type": "markdown",
   "metadata": {},
   "source": [
    "**6) Repetir** los mismos pasos utilizados con el anterior modelo pero esta vez para `Random Forest`. Es decir, mostrar la matriz de confusión, scores, etc"
   ]
  },
  {
   "cell_type": "code",
   "execution_count": 18,
   "metadata": {},
   "outputs": [
    {
     "data": {
      "text/plain": [
       "[0.95455908203125,\n",
       " 0.9577485351562501,\n",
       " 0.9595375976562501,\n",
       " 0.9598701171874999,\n",
       " 0.96111328125,\n",
       " 0.9623920898437499,\n",
       " 0.9712172851562499,\n",
       " 0.9713286132812501,\n",
       " 0.9715659179687499,\n",
       " 0.9727197265624999,\n",
       " 0.97380810546875,\n",
       " 0.97526953125,\n",
       " 0.9809775390625,\n",
       " 0.98131201171875,\n",
       " 0.981921875,\n",
       " 0.98222900390625,\n",
       " 0.9823037109375001,\n",
       " 0.9824633789062499,\n",
       " 0.9835034179687498,\n",
       " 0.9839155273437499,\n",
       " 0.9839804687500001,\n",
       " 0.9841259765624999,\n",
       " 0.9846777343750001,\n",
       " 0.9847822265625,\n",
       " 0.985287109375,\n",
       " 0.9853012695312499,\n",
       " 0.98544921875,\n",
       " 0.9855122070312501,\n",
       " 0.9856186523437499,\n",
       " 0.98579296875,\n",
       " 0.9860107421875,\n",
       " 0.9862470703125,\n",
       " 0.98653466796875,\n",
       " 0.9866196289062499,\n",
       " 0.9867080078124999,\n",
       " 0.9867177734375,\n",
       " 0.993619140625,\n",
       " 0.9937822265625,\n",
       " 0.99424609375,\n",
       " 0.99426123046875,\n",
       " 0.99557470703125,\n",
       " 0.99620703125,\n",
       " 0.9974892578124999,\n",
       " 0.99799365234375,\n",
       " 0.9980996093749999,\n",
       " 0.9982314453125,\n",
       " 0.9982558593749999,\n",
       " 0.9983955078125,\n",
       " 0.9984614257812499,\n",
       " 0.99848828125,\n",
       " 0.9985102539062499,\n",
       " 0.99854638671875,\n",
       " 0.99855419921875,\n",
       " 0.99871044921875,\n",
       " 0.9987812500000001,\n",
       " 0.9988125,\n",
       " 0.9988461914062501,\n",
       " 0.9990151367187499,\n",
       " 0.9990234375,\n",
       " 0.99907763671875,\n",
       " 0.9994013671875001,\n",
       " 0.99952197265625,\n",
       " 0.9995654296875,\n",
       " 0.9995732421874999,\n",
       " 0.9995766601562501,\n",
       " 0.9996464843749999,\n",
       " 0.9996518554687499,\n",
       " 0.9996923828125001,\n",
       " 0.99974462890625,\n",
       " 0.99976806640625,\n",
       " 0.9997773437500002,\n",
       " 0.9997880859375,\n",
       " 1.0,\n",
       " 1.0,\n",
       " 1.0,\n",
       " 1.0,\n",
       " 1.0,\n",
       " 1.0,\n",
       " 1.0,\n",
       " 1.0,\n",
       " 1.0,\n",
       " 1.0,\n",
       " 1.0,\n",
       " 1.0,\n",
       " 1.0,\n",
       " 1.0,\n",
       " 1.0,\n",
       " 1.0,\n",
       " 1.0,\n",
       " 1.0,\n",
       " 1.0,\n",
       " 1.0,\n",
       " 1.0,\n",
       " 1.0,\n",
       " 1.0,\n",
       " 1.0,\n",
       " 1.0,\n",
       " 1.0,\n",
       " 1.0,\n",
       " 1.0,\n",
       " 1.0,\n",
       " 1.0,\n",
       " 1.0,\n",
       " 1.0,\n",
       " 1.0,\n",
       " 1.0,\n",
       " 1.0,\n",
       " 1.0]"
      ]
     },
     "execution_count": 18,
     "metadata": {},
     "output_type": "execute_result"
    }
   ],
   "source": [
    "sorted(grid_search.cv_results_['mean_train_score'])"
   ]
  },
  {
   "cell_type": "code",
   "execution_count": 19,
   "metadata": {},
   "outputs": [
    {
     "data": {
      "text/plain": [
       "[0.822265625,\n",
       " 0.8283828124999999,\n",
       " 0.8313359374999999,\n",
       " 0.8354609375000001,\n",
       " 0.837,\n",
       " 0.8374218750000001,\n",
       " 0.8381093749999999,\n",
       " 0.84278125,\n",
       " 0.8464375000000001,\n",
       " 0.8493906250000001,\n",
       " 0.8495859375,\n",
       " 0.8500625000000002,\n",
       " 0.8503203125000001,\n",
       " 0.8532929687500002,\n",
       " 0.853640625,\n",
       " 0.8552578125,\n",
       " 0.8572187499999998,\n",
       " 0.8589765625,\n",
       " 0.8597578124999998,\n",
       " 0.8607812499999999,\n",
       " 0.8614062499999999,\n",
       " 0.8614062500000002,\n",
       " 0.8616406249999999,\n",
       " 0.8625390625,\n",
       " 0.8647656250000001,\n",
       " 0.8649531250000001,\n",
       " 0.8667343750000001,\n",
       " 0.86878125,\n",
       " 0.8690390625,\n",
       " 0.8706640624999998,\n",
       " 0.870765625,\n",
       " 0.871078125,\n",
       " 0.8717421875,\n",
       " 0.8718984375,\n",
       " 0.8721249999999999,\n",
       " 0.87228125,\n",
       " 0.87245703125,\n",
       " 0.8728359375,\n",
       " 0.8728749999999998,\n",
       " 0.8736171875000001,\n",
       " 0.8736484375,\n",
       " 0.8737578125000001,\n",
       " 0.8739531250000001,\n",
       " 0.8740117187499999,\n",
       " 0.875203125,\n",
       " 0.8763359375,\n",
       " 0.8772578124999999,\n",
       " 0.8776406250000001,\n",
       " 0.8776562499999999,\n",
       " 0.878015625,\n",
       " 0.878328125,\n",
       " 0.8788203125,\n",
       " 0.87921875,\n",
       " 0.8797890624999999,\n",
       " 0.8803906249999999,\n",
       " 0.8810624999999999,\n",
       " 0.8815703125000001,\n",
       " 0.8816328124999998,\n",
       " 0.88221875,\n",
       " 0.88225,\n",
       " 0.88293359375,\n",
       " 0.8832265625,\n",
       " 0.8842265625,\n",
       " 0.8844609375000001,\n",
       " 0.884890625,\n",
       " 0.8850390625,\n",
       " 0.88509375,\n",
       " 0.8855078125,\n",
       " 0.8855234375000001,\n",
       " 0.8856328125000001,\n",
       " 0.8856953125,\n",
       " 0.8858125000000001,\n",
       " 0.88625390625,\n",
       " 0.8865078125,\n",
       " 0.8867968750000002,\n",
       " 0.8869140625,\n",
       " 0.8880000000000001,\n",
       " 0.8881640625000001,\n",
       " 0.8882890625,\n",
       " 0.8885625000000001,\n",
       " 0.8885703125,\n",
       " 0.8891796874999999,\n",
       " 0.8892031249999999,\n",
       " 0.8906328125,\n",
       " 0.8906953124999999,\n",
       " 0.8907812500000001,\n",
       " 0.8909374999999999,\n",
       " 0.8913515624999999,\n",
       " 0.8925468750000001,\n",
       " 0.89290625,\n",
       " 0.8931757812500001,\n",
       " 0.8937539062500001,\n",
       " 0.8937851562500001,\n",
       " 0.8942460937500002,\n",
       " 0.8951171874999998,\n",
       " 0.8952734375,\n",
       " 0.8954765625000001,\n",
       " 0.896734375,\n",
       " 0.8978125,\n",
       " 0.8989492187500001,\n",
       " 0.8989570312499999,\n",
       " 0.8991171874999999,\n",
       " 0.89926171875,\n",
       " 0.9014882812499998,\n",
       " 0.9018046875,\n",
       " 0.9023984374999998,\n",
       " 0.903171875,\n",
       " 0.90347265625]"
      ]
     },
     "execution_count": 19,
     "metadata": {},
     "output_type": "execute_result"
    }
   ],
   "source": [
    "sorted(grid_search.cv_results_['mean_test_score'])"
   ]
  },
  {
   "cell_type": "code",
   "execution_count": 20,
   "metadata": {},
   "outputs": [
    {
     "data": {
      "text/plain": [
       "{'bootstrap': False,\n",
       " 'criterion': 'entropy',\n",
       " 'max_depth': None,\n",
       " 'min_samples_split': 3,\n",
       " 'n_estimators': 1000}"
      ]
     },
     "execution_count": 20,
     "metadata": {},
     "output_type": "execute_result"
    }
   ],
   "source": [
    "grid_search.best_params_"
   ]
  },
  {
   "cell_type": "code",
   "execution_count": 21,
   "metadata": {},
   "outputs": [],
   "source": [
    "optimised_rf = grid_search.best_estimator_"
   ]
  },
  {
   "cell_type": "code",
   "execution_count": 22,
   "metadata": {},
   "outputs": [
    {
     "name": "stdout",
     "output_type": "stream",
     "text": [
      "Confusion matrix, without normalization\n",
      "[[175  32]\n",
      " [ 25 168]]\n"
     ]
    },
    {
     "data": {
      "image/png": "[encoded data removed]",
      "text/plain": [
       "<Figure size 432x288 with 2 Axes>"
      ]
     },
     "metadata": {
      "needs_background": "light"
     },
     "output_type": "display_data"
    }
   ],
   "source": [
    "y_pred = optimised_rf.predict(X_test)\n",
    "plot_confusion_matrix(confusion_matrix(y_pred, y_test),['neg','pos'])"
   ]
  },
  {
   "cell_type": "markdown",
   "metadata": {},
   "source": [
    "### Multilayer Perceptron"
   ]
  },
  {
   "cell_type": "markdown",
   "metadata": {},
   "source": [
    "**6) Repetir** los mismos pasos utilizados con el anterior modelo pero esta vez para `Multilayer Perceptron`. Es decir, mostrar la matriz de confusión, scores, etc\n",
    "\n",
    "El `param_grid` debe recorrer estos valores: `{'hidden_layer_sizes': [(10,),(5,5), (2,2)]}`"
   ]
  },
  {
   "cell_type": "markdown",
   "metadata": {},
   "source": [
    "### AdaBoost"
   ]
  },
  {
   "cell_type": "markdown",
   "metadata": {},
   "source": [
    "**7) Repetir** los mismos pasos utilizados con el anterior modelo pero esta vez para `AdaBoost`. Es decir, mostrar la matriz de confusión, scores, etc\n",
    "\n",
    "El `param_grid` debe recorrer estos valores: `{'n_estimators': [50, 100, 500]}`\n"
   ]
  },
  {
   "cell_type": "markdown",
   "metadata": {},
   "source": [
    "__8) Armar un ensamble entre los cuatro modelos usando votación y medir el accuracy de cada uno de los modelos.__\n"
   ]
  },
  {
   "cell_type": "markdown",
   "metadata": {},
   "source": [
    "__9) Seleccioná el modelo__ que te haya dado el mejor score y utilizalo como tu modelo final. Reentrenalo con todos tus datos de entrenamiento.\n"
   ]
  },
  {
   "cell_type": "code",
   "execution_count": null,
   "metadata": {},
   "outputs": [],
   "source": [
    "# Guardamos el modelo\n",
    "from sklearn.externals import joblib\n",
    "joblib.dump(eclf, 'sentiment.pkl') "
   ]
  },
  {
   "cell_type": "code",
   "execution_count": null,
   "metadata": {},
   "outputs": [],
   "source": [
    "y_pred"
   ]
  },
  {
   "cell_type": "markdown",
   "metadata": {},
   "source": [
    "## Clasificación de reviews de Rocky 4."
   ]
  },
  {
   "cell_type": "markdown",
   "metadata": {},
   "source": [
    "A partir de [criticas de la película Rocky 4](https://www.rottentomatoes.com/m/rocky_iv/reviews/?type=user) veamos como las clasifica nuestro mejor modelo"
   ]
  },
  {
   "cell_type": "code",
   "execution_count": null,
   "metadata": {},
   "outputs": [],
   "source": [
    "reviews_new = [\"Stallone creates credible villains worthy of his heroic character.\",\n",
    "               \"Another brilliant Rocky film, probably my favourite one out of the lot\",\n",
    "               \"Yeah, this movie sucks.\",\n",
    "               \"My favourite rocky film! So good so much heart. Slightly better than 2\",\n",
    "               \"What has this got to do with boxing. Also everyone looked like dolls. Also if you are a real true boxing fan (not casuals), you would understand that this stupidity is no description of boxing!!\",\n",
    "               \"The new film's narrative is stripped down to essentials, which gives it an emblematic quality.\",\n",
    "               \"Absurdly ridiculous, this just isn't a good movie at all\", \n",
    "               \"Very basic and predictable but still an okay movie. No special music to save this one.\", \n",
    "              \"Rocky 4 is an extremely ambitious movie that is definitely worth watching.\",\n",
    "              'Highly beautiful',\n",
    "               \"If it wasn't for the robots (WTF????), and the painfully overwritten lines of an absurdly dogmatic persuasion, then this would otherwise be nothing more than an interminable series of mildly rousing montages. There are some unintentionally funny bits though, and Dolph's Ivan showcases the best and worst of all Rocky's opponents.\",\n",
    "              \"While all aspects of realism is thrown out the window, ROCKY IV is an adrenaline rush of action and excitment, with an incredible soundtrack and arguably the best movie fight in history between Balboa and Drago\",\n",
    "              \"Just like the songs, exercise routines and repetitive clips, it seems redundant to add another installment in this already falling franchise when you clearly lack material. Rocky IV is petty, childish and seems overlong despite of its 91 minutes of run time for it merely has an idea of a TV drama episode which is stretched to a point of exhaustion. Its painful to watch Sylvester Stallone go through this enormous amount of training and hardly make a point out there. He fails on all the levels here; writer, director and actor, to deliver any loose end of the thread for the audience to hang on to. Rocky IV is predictable, loosely written and choreographed and executed unsupervised.\"]\n",
    "reviews_new_counts = tfidf_vect.transform(reviews_new)\n",
    "reviews_new_tfidf = tfidf_vect.transform(reviews_new)"
   ]
  },
  {
   "cell_type": "code",
   "execution_count": null,
   "metadata": {},
   "outputs": [],
   "source": [
    "pred = eclf.predict(reviews_new_tfidf)"
   ]
  },
  {
   "cell_type": "code",
   "execution_count": null,
   "metadata": {},
   "outputs": [],
   "source": [
    "for review, category in zip(reviews_new, pred):\n",
    "    print('%r => %s \\n' % (review, movie_reviews.target_names[category]))"
   ]
  }
 ],
 "metadata": {
  "kernelspec": {
   "display_name": "Python 3",
   "language": "python",
   "name": "python3"
  },
  "language_info": {
   "codemirror_mode": {
    "name": "ipython",
    "version": 3
   },
   "file_extension": ".py",
   "mimetype": "text/x-python",
   "name": "python",
   "nbconvert_exporter": "python",
   "pygments_lexer": "ipython3",
   "version": "3.7.4"
  }
 },
 "nbformat": 4,
 "nbformat_minor": 4
}

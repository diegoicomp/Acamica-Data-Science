{
 "cells": [
  {
   "cell_type": "markdown",
   "metadata": {},
   "source": [
    "# Visualización con Matplotlib\n",
    "\n",
    "Matplotlib es la librería fundamental de visualización en Python. Es una libreriía de bajo nivel, con muchísima flexibilidad, de sintaxis compleja pero muy bien documentada.\n",
    "\n",
    "## 1. Line plot\n",
    "Vamos a empezar con el ploteo mas sencillo posible, una línea. Vamos a graficar una función sinusoidal de tipo: $y = sen(x) + 1$.\n",
    "\n",
    "La manera mas rápida de lograr un gráfico es la siguiente:"
   ]
  },
  {
   "cell_type": "code",
   "execution_count": 1,
   "metadata": {},
   "outputs": [],
   "source": [
    "import matplotlib.pyplot as plt\n",
    "import numpy as np\n",
    "%matplotlib inline"
   ]
  },
  {
   "cell_type": "code",
   "execution_count": 2,
   "metadata": {},
   "outputs": [
    {
     "data": {
      "text/plain": [
       "[<matplotlib.lines.Line2D at 0x1ff28c01f08>]"
      ]
     },
     "execution_count": 2,
     "metadata": {},
     "output_type": "execute_result"
    },
    {
     "data": {
      "image/png": "[encoded data removed]",
      "text/plain": [
       "<Figure size 432x288 with 1 Axes>"
      ]
     },
     "metadata": {
      "needs_background": "light"
     },
     "output_type": "display_data"
    }
   ],
   "source": [
    "# Generamos dos vectores x e y, que nos daran las cordenadas por donde pasará la linea.\n",
    "x = np.arange(0.0, 2.0, 0.01)\n",
    "y = 1 + np.sin(2 * np.pi * x)\n",
    "\n",
    "# Simplemente le pedimos a la librería que dibuje una variable en funcion de la otra\n",
    "# En el primer lugar va la variable horizontal y en el segundo la vertical\n",
    "plt.plot(x, y)"
   ]
  },
  {
   "cell_type": "markdown",
   "metadata": {},
   "source": [
    "Esa es una forma rápida de graficar dos variables, pero en general vamos a proceder de una forma más *ordenada*. Verán que esto es una constante de esta librería, existen varias formas de proceder que llegan a un mismo resultado, pero intentaremos ser constantes en la forma de hacerlo para tener más claridad.\n",
    "\n",
    "En general, para graficar, primero vamos a crear el objeto correspondiente a la figura (el espacio donde graficamos) y el objeto correspondiente a los ejes (los ejes de referencia):"
   ]
  },
  {
   "cell_type": "code",
   "execution_count": null,
   "metadata": {},
   "outputs": [],
   "source": [
    "fig = plt.figure()\n",
    "ax = plt.axes()\n",
    "\n",
    "# Se peude obtener el mismo resultado con esta única linea\n",
    "# fig, ax = plt.subplots()\n",
    "\n",
    "ax.plot(x, y)"
   ]
  },
  {
   "cell_type": "markdown",
   "metadata": {},
   "source": [
    "Podemos agregar más de una curva en un mismo gráfico, para esto solo basta con volver a ejecutar el método `plot`."
   ]
  },
  {
   "cell_type": "code",
   "execution_count": null,
   "metadata": {},
   "outputs": [],
   "source": [
    "# Generamos las dos curvas\n",
    "x = np.arange(0.0, 2.0, 0.01)\n",
    "y = 1 + np.sin(2 * np.pi * x)\n",
    "\n",
    "x2 = np.arange(0.0, 2.0, 0.01)\n",
    "y2 = x2\n",
    "\n",
    "# Generamos la figura y los ejes\n",
    "fig = plt.figure()\n",
    "ax = plt.axes()\n",
    "\n",
    "# Ploteamos las dos lineas\n",
    "ax.plot(x, y)\n",
    "ax.plot(x2,y2)"
   ]
  },
  {
   "cell_type": "markdown",
   "metadata": {},
   "source": [
    "En matplotlib existen muchísimas opciones para dibujar esta línea con diferentes formatos. Para tener una idea vamos a mostrarles como modificar algunas de sus propiedades, pero en la bibliografía de la librería pueden encontrar mucha más información."
   ]
  },
  {
   "cell_type": "code",
   "execution_count": null,
   "metadata": {},
   "outputs": [],
   "source": [
    "fig = plt.figure()\n",
    "ax = plt.axes()\n",
    "\n",
    "ax.plot(x, y, color = 'red', linewidth = 4, linestyle = '-.')"
   ]
  },
  {
   "cell_type": "markdown",
   "metadata": {},
   "source": [
    "No sólo la linea se puede personalizar, sino que también los ejes, y la figura en general. Nuevamente les mostraremos sólo algunas opciones:"
   ]
  },
  {
   "cell_type": "code",
   "execution_count": null,
   "metadata": {},
   "outputs": [],
   "source": [
    "fig = plt.figure()\n",
    "ax = plt.axes()\n",
    "\n",
    "ax.plot(x, y, color = 'k', linewidth = 2, linestyle = '-')\n",
    "\n",
    "# Podemos agregarle etiquetas a los ejes y un titulo al gráfico\n",
    "ax.set(xlabel='Tiempo (s)', ylabel='Temperatura (°C)',\n",
    "       title='Valor de temperatura')\n",
    "\n",
    "# Podemos también modificar los márgenes del gráfico\n",
    "ax.set(xlim = (0,1), ylim = (0,4))\n",
    "\n",
    "# Este comando enciende la grilla de referencia \n",
    "ax.grid()\n",
    "\n",
    "# Con este comando pueden guardar la imagen en su pc\n",
    "#fig.savefig(\"test.png\")"
   ]
  },
  {
   "cell_type": "markdown",
   "metadata": {},
   "source": [
    "### **Ejercicios**\n",
    "\n",
    "1. Defina dos listas de valores `x` e `y`, tal que los pares (x,y) cumplan una relación lineal del tipo $y = 2x + 1$. Defina la lista de valores de `x` con 100 puntos en el intervalo de valores que van desde -1 hasta 1."
   ]
  },
  {
   "cell_type": "code",
   "execution_count": null,
   "metadata": {},
   "outputs": [],
   "source": [
    "COMPLETAR"
   ]
  },
  {
   "cell_type": "markdown",
   "metadata": {},
   "source": [
    "2. Grafique la curva generada por los valores (x,y) en color verde, con un ancho `linewidth = 3` y que sea una línea a trazos. Agregue al gráfico el título 'Relación Lineal'."
   ]
  },
  {
   "cell_type": "code",
   "execution_count": null,
   "metadata": {},
   "outputs": [],
   "source": [
    "COMPLETAR"
   ]
  },
  {
   "cell_type": "markdown",
   "metadata": {},
   "source": [
    "## 2. Legends\n",
    "Las leyendas son cuadros que se agregan dentro del gráfico que nos brindan información sobre los distintos objetos que estamos graficando. Matplotlib se encarga de manejar muy bien las leyendas. Nosotros sólo debemos decirle el nombre de cada objeto que graficamos y avisarle que queremos que agregue la leyenda al gráfico."
   ]
  },
  {
   "cell_type": "code",
   "execution_count": null,
   "metadata": {},
   "outputs": [],
   "source": [
    "# Generamos las dos curvas\n",
    "x = np.arange(0.0, 2.0, 0.01)\n",
    "y = 1 + np.sin(2 * np.pi * x)\n",
    "\n",
    "x2 = np.arange(0.0, 2.0, 0.01)\n",
    "y2 = x2\n",
    "\n",
    "# Generamos la figura y los ejes\n",
    "fig = plt.figure()\n",
    "ax = plt.axes()\n",
    "\n",
    "# Ploteamos las dos lineas, dandole un nombre a cada una mediante el parámetro 'label'\n",
    "ax.plot(x, y, label='Primera Curva')\n",
    "ax.plot(x2,y2, label='Segunda Curva')\n",
    "\n",
    "# Agregamos la leyenda al gráfico\n",
    "ax.legend() #loc='upper center', shadow=True, fontsize='x-large')"
   ]
  },
  {
   "cell_type": "code",
   "execution_count": null,
   "metadata": {},
   "outputs": [],
   "source": [
    "# Generamos las dos curvas\n",
    "x = np.arange(0.0, 2.0, 0.01)\n",
    "y = 1 + np.sin(2 * np.pi * x)\n",
    "\n",
    "x2 = np.arange(0.0, 2.0, 0.01)\n",
    "y2 = x2\n",
    "\n",
    "# Generamos la figura y los ejes\n",
    "fig = plt.figure()\n",
    "ax = plt.axes()\n",
    "\n",
    "# Ploteamos las dos lineas, dandole un nombre a cada una mediante el parámetro 'label'\n",
    "ax.plot(x, y, label='Primera Curva')\n",
    "ax.plot(x2,y2, label='Segunda Curva')\n",
    "\n",
    "# Agregamos la leyenda al gráfico\n",
    "ax.legend()"
   ]
  },
  {
   "cell_type": "markdown",
   "metadata": {},
   "source": [
    "Al igual que los otros objetos de la librería Matplotlib, las propiedades de la leyenda que agregamos al gráfico son muy adaptables a través de parametros que le podemos pasar al método `legend`. \n",
    "\n",
    "Por ejemplo, podemos cambiarle el tamaño de la letra (`fontsize`), la posición (`loc`) y si queremos que esté por arriba del gráfico y tenga sobra (`shadow`), entre muchas otras opciones. Para saber más, siempre pueden ir a la documentación de la función."
   ]
  },
  {
   "cell_type": "code",
   "execution_count": null,
   "metadata": {},
   "outputs": [],
   "source": [
    "# Generamos la figura y los ejes\n",
    "fig = plt.figure()\n",
    "ax = plt.axes()\n",
    "\n",
    "# Ploteamos las dos lineas, dandole un nombre a cada una mediante el parámetro 'label'\n",
    "ax.plot(x, y, label='Primera Curva')\n",
    "ax.plot(x2,y2, label='Segunda Curva')\n",
    "\n",
    "# Agregamos la leyenda al gráfico\n",
    "ax.legend(loc='upper center', shadow=True, fontsize=15)"
   ]
  },
  {
   "cell_type": "markdown",
   "metadata": {},
   "source": [
    "## 3. Subplots\n",
    "Muchas veces vamos a querer visualizar dos gráficos en una misma figura al mismo tiempo para compararlos. Esto lo podemos lograr definiendo el objeto `subplots` de matplotlib. \n",
    "\n",
    "`subplots` crea un objeto `fig` que corresponde a la figura (todo el rectangulo donde vamos a graficar) y varios ejes en el objeto `axes`, los cuales corresonden a los distintos subplots que vamos a hacer dentro de la figura."
   ]
  },
  {
   "cell_type": "code",
   "execution_count": null,
   "metadata": {},
   "outputs": [],
   "source": [
    "# Primero definimos dos curvas (x1,y1) y (x2,y2)\n",
    "x1 = np.linspace(0.0, 5.0, 100)\n",
    "x2 = np.linspace(0.0, 2.0, 100)\n",
    "\n",
    "y1 = np.cos(2 * np.pi * x1) * np.exp(-x1)\n",
    "y2 = np.cos(2 * np.pi * x2)\n",
    "\n",
    "\n",
    "# Creamos la figura 'fig' y dos ejes en 'axes'.\n",
    "# Como ponemos (2,1) quiere decir que queremos 2 filas\n",
    "fig, axes = plt.subplots(2,1)\n",
    "fig.suptitle('Graficos apilados en forma vertical')\n",
    "axes[0].plot(x1, y1)\n",
    "axes[1].plot(x2, y2)"
   ]
  },
  {
   "cell_type": "markdown",
   "metadata": {},
   "source": [
    "Noten que los valores en el eje x son distintos. Si queremos que compartan el mismo eje debemos pasarle un argumento a la función subplots para indicarle que queremos eso."
   ]
  },
  {
   "cell_type": "code",
   "execution_count": null,
   "metadata": {},
   "outputs": [],
   "source": [
    "# Creamos la figura 'fig' y dos ejes en 'axes'.\n",
    "# Como ponemos (2,1) quiere decir que queremos 2 filas\n",
    "fig, axes = plt.subplots(2,1,sharex=True)\n",
    "\n",
    "fig.suptitle('Graficos que coparten en eje x')\n",
    "\n",
    "axes[0].plot(x1, y1)\n",
    "axes[1].plot(x2, y2)\n",
    "\n",
    "# Si quieren que solo grafique entre 0 y 2\n",
    "# axes[0].set(xlim = (0,2))"
   ]
  },
  {
   "cell_type": "markdown",
   "metadata": {},
   "source": [
    "Tambien se pueden apilar los subplots de manera horizontal en lugar de vertical. Psra esto debemos cambiar el argumento que pasamos al crear el objeto subplots."
   ]
  },
  {
   "cell_type": "code",
   "execution_count": null,
   "metadata": {},
   "outputs": [],
   "source": [
    "# Si ponemos (1,2) quiere decir que queremos 2 columnas\n",
    "# si pasamos el argumento 'sharey=True', compartiran los valores del eje y\n",
    "fig, axes = plt.subplots(1,2,sharey=True)\n",
    "fig.suptitle('Graficos apilados en forma Horizontal')\n",
    "axes[0].plot(x1, y1)\n",
    "axes[1].plot(x2, y2)"
   ]
  },
  {
   "cell_type": "markdown",
   "metadata": {},
   "source": [
    "### **Ejercicio**\n",
    "\n",
    "Graficar tres subplots, con las curvas (x1,y1),(x2,y2) y (x3,y3), en una única figura. Apilar los subplots en forma vertical y de manera que compartan el eje x."
   ]
  },
  {
   "cell_type": "code",
   "execution_count": null,
   "metadata": {},
   "outputs": [],
   "source": [
    "# Primero definimos tres curvas (x1,y1), (x2,y2) y (x3,y3)\n",
    "x1 = np.linspace(0.0, 3.0, 100)\n",
    "x2 = np.linspace(0.0, 3.0, 100)\n",
    "x3 = np.linspace(0.0, 3.0, 100)\n",
    "\n",
    "y1 = np.cos(2 * np.pi * x1) * np.exp(-x1)\n",
    "y2 = np.cos(2 * np.pi * x2)\n",
    "y3 = 0.5 * x3 - 1"
   ]
  },
  {
   "cell_type": "code",
   "execution_count": null,
   "metadata": {},
   "outputs": [],
   "source": [
    "COMPLETAR"
   ]
  },
  {
   "cell_type": "markdown",
   "metadata": {},
   "source": [
    "## 4. Scatter Plots\n",
    "Un tipo de gráfico que vamos a utilizar mucho en la carrera es el Scatter Plot. El mismo plotea una serie de puntos en un gráfico. En general estos puntos tomarán su coordenada horizontal de una lista de valores `x` y su coordenada vertical de una lista de valores `y`.\n",
    "\n",
    "Para trabajar con el Scatter Plot vamos a cargar el dataset de reviews de vinos, de donde tomaremos el precios y el puntaje de cada vino. Esto lo haremos usando la libreria Pandas."
   ]
  },
  {
   "cell_type": "code",
   "execution_count": null,
   "metadata": {},
   "outputs": [],
   "source": [
    "import pandas as pd\n",
    "\n",
    "# Definimos las columnas que nos interesan\n",
    "fields = ['country', 'points','price', 'variety']\n",
    "\n",
    "# Cargamos el DataFrame solo con esas columnas\n",
    "wine_reviews = pd.read_csv('DS_Clase_05_wine_reviews.csv', usecols = fields)\n",
    "wine_reviews.head()"
   ]
  },
  {
   "cell_type": "code",
   "execution_count": null,
   "metadata": {},
   "outputs": [],
   "source": [
    "# Tiramos las isntancias que tienen un nan en alguno de los features.\n",
    "wine_reviews.dropna(inplace=True)\n",
    "wine_reviews.head()"
   ]
  },
  {
   "cell_type": "code",
   "execution_count": null,
   "metadata": {},
   "outputs": [],
   "source": [
    "# Tomamos como coordenadas en x los precios\n",
    "x = wine_reviews.price.values\n",
    "# Tomamos como coordenadas en y el puntaje de la review\n",
    "y = wine_reviews.points.values"
   ]
  },
  {
   "cell_type": "markdown",
   "metadata": {},
   "source": [
    "Ahora sí, vamos a graficar cada vino como un punto en el plano dado por el precio y el puntaje de la review."
   ]
  },
  {
   "cell_type": "code",
   "execution_count": null,
   "metadata": {},
   "outputs": [],
   "source": [
    "fig = plt.figure()\n",
    "ax = plt.axes()\n",
    "\n",
    "ax.scatter(x, y)\n",
    "ax.set(xlabel='Precio (usd)', ylabel='Puntaje',\n",
    "       title='Precio vs. puntaje en vinos')"
   ]
  },
  {
   "cell_type": "markdown",
   "metadata": {},
   "source": [
    "Como ven ya tenemos un primer gráfico, pero no podemos apreciarlo muy bien ya que los límites de los ejes se acomodan automaticamente de manera de que todos los puntos (vinos) entren dentro del gráfico. Entonces, teniendo algunos vinos muy caros (outliers en precio), no podemos apreciar los vinos de precio mas bajo. \n",
    "\n",
    "Corrijamos graficando solo vinos menores a 500 usd:"
   ]
  },
  {
   "cell_type": "code",
   "execution_count": null,
   "metadata": {},
   "outputs": [],
   "source": [
    "fig = plt.figure()\n",
    "ax = plt.axes()\n",
    "\n",
    "ax.scatter(x, y)\n",
    "ax.set(xlabel='Precio (usd)', ylabel='Puntaje',\n",
    "       title='Precio vs. puntaje en vinos', xlim = (0,500))"
   ]
  },
  {
   "cell_type": "markdown",
   "metadata": {},
   "source": [
    "## Ejercicio\n",
    "1. ¿Por qué cree que se forman esas líneas horizontales en el gráfico?\n",
    "2. ¿Qué conclusiones pueden sacar sobre la relación de precio y puntaje observando este gráfico?\n",
    "3. Tome solo los vinos realizados en Argentina (recuerde usar una máscara) y realice nuevamente un scatter plot de precio vs puntaje para estos vinos."
   ]
  },
  {
   "cell_type": "code",
   "execution_count": null,
   "metadata": {},
   "outputs": [],
   "source": [
    "ARG_wine_reviews = COMPLETAR"
   ]
  },
  {
   "cell_type": "code",
   "execution_count": null,
   "metadata": {},
   "outputs": [],
   "source": [
    "# Tomamos como coordenadas en x los precios\n",
    "precio_arg = ARG_wine_reviews.price.values\n",
    "# Tomamos como coordenadas en y el puntaje de la review\n",
    "puntos_arg = ARG_wine_reviews.points.values"
   ]
  },
  {
   "cell_type": "code",
   "execution_count": null,
   "metadata": {},
   "outputs": [],
   "source": [
    "COMPLETAR"
   ]
  },
  {
   "cell_type": "markdown",
   "metadata": {},
   "source": [
    "Vamos a agregar más información al gráfico. Además de los vinos Argentinos, vamos a graficar también los vinos chilenos."
   ]
  },
  {
   "cell_type": "code",
   "execution_count": null,
   "metadata": {},
   "outputs": [],
   "source": [
    "CHI_wine_reviews = wine_reviews[wine_reviews['country']=='Chile']\n",
    "# Tomamos como coordenadas en x los precios\n",
    "precio_chi = CHI_wine_reviews.price.values\n",
    "# Tomamos como coordenadas en y el puntaje de la review\n",
    "puntos_chi = CHI_wine_reviews.points.values"
   ]
  },
  {
   "cell_type": "markdown",
   "metadata": {},
   "source": [
    "Para identificar los vinos de los dos paises, vamos a agregar una leyenda al gráfico. Y como tenemos muchos puntos que se superponen, vamos graficar a puntos semitransparentes. Esto lo logramos con el argumento `alpha` al método `scatter`."
   ]
  },
  {
   "cell_type": "code",
   "execution_count": null,
   "metadata": {},
   "outputs": [],
   "source": [
    "fig = plt.figure()\n",
    "ax = plt.axes()\n",
    "\n",
    "# Graficamos putnos semi transparentes, cada uno con el label adecuado\n",
    "ax.scatter(precio_arg, puntos_arg, label = 'Vinos Argentinos',alpha = 0.3)\n",
    "ax.scatter(precio_chi, puntos_chi, label = 'Vinos Chilenos',alpha = 0.3)\n",
    "\n",
    "ax.set(xlabel='Precio (usd)', ylabel='Puntaje',\n",
    "       title='Precio vs. puntaje en vinos', xlim = (0,250))\n",
    "\n",
    "# Agregamos la leyenda al gráfico, la graficamos abajo a la derecha\n",
    "ax.legend(loc='lower right', shadow=True, fontsize=13)"
   ]
  },
  {
   "cell_type": "markdown",
   "metadata": {},
   "source": [
    "## 5. Histogramas\n",
    "\n",
    "Matplotlib también nos permite graficar fácilmente histogramas mediante la función `hist`. Veamos un primer ejemplo, donde creamos una serie de 1000 valores a partir de una distribución gaussiana en el vector `valores`:"
   ]
  },
  {
   "cell_type": "code",
   "execution_count": null,
   "metadata": {},
   "outputs": [],
   "source": [
    "# Elejimos una distribución con centro en 20 y una desviación igual a 4\n",
    "mu = 20  # Media de la distribución\n",
    "sigma = 4  # Desviación Estandar\n",
    "valores = mu + sigma * np.random.randn(1000)\n",
    "\n",
    "# Imprimimos la media y la desviación de los valores generados\n",
    "print('Media:',np.mean(valores))\n",
    "print('Desvio Estandar:',np.std(valores))\n",
    "# Recuerden que cuantos mas valores sampleen, \n",
    "# mas se aproximaran estos valores a los de la distribución."
   ]
  },
  {
   "cell_type": "markdown",
   "metadata": {},
   "source": [
    "Ahora vamos a graficar un histograma para estos valores."
   ]
  },
  {
   "cell_type": "code",
   "execution_count": null,
   "metadata": {},
   "outputs": [],
   "source": [
    "# Aca decidimos la cantidad de bines que queremos tomar\n",
    "num_bins = 50\n",
    "\n",
    "# Creamos la figura y los ejes\n",
    "fig, ax = plt.subplots()\n",
    "\n",
    "# Ploteamos el histograma\n",
    "n, bins, _ = ax.hist(valores, bins = num_bins)"
   ]
  },
  {
   "cell_type": "markdown",
   "metadata": {},
   "source": [
    "### Ejercicio: \n",
    "\n",
    "1. Repitan el histograma anterior, pero esta vez cambiando el número de `bins`. Por ejemplo, probar con 5, 50, 500 y 5000. ¿Cuál les parece la opción más adecuada? ¿De qué dependará el número de bins adecuado a seleccionar?\n",
    "\n",
    "2. Prueben qué sucede si no le pasan el argumento `bins` a la función. Busquen en la bibliografía de la librería que es lo que hace por default la función."
   ]
  },
  {
   "cell_type": "markdown",
   "metadata": {},
   "source": [
    "**Nota**: la función `hist` además nos devuelve dos vectores relevantes. El vector `n` donde nos especifica el número de cuentas de cada bin (columna) del histograma. Y el vector `bins`, que nos dice los límites de estos bines (donde empieza y termina cada columna. Noten que el vector 'bins' tiene un largo igual a `len(n)+1`.\n",
    "\n",
    "Como último ejemplo, vamos a graficar el histograma de precios correspondientes a los vinos argentinos con una calificación de 85 y los vamos a comparar al precio de los vinos argentinos con una calificación de 90."
   ]
  },
  {
   "cell_type": "code",
   "execution_count": null,
   "metadata": {},
   "outputs": [],
   "source": [
    "# Seleccionamos los vinos con puntaje igual a 85\n",
    "ARG_wine_85 = ARG_wine_reviews[ARG_wine_reviews['points']==85]\n",
    "# Seleccionamos los vinos con puntaje igual a 85\n",
    "ARG_wine_90 = ARG_wine_reviews[ARG_wine_reviews['points']==90]\n",
    "\n",
    "# Armamos los vectores con los precios de cada vino\n",
    "precios_arg_85 = ARG_wine_85.price.values\n",
    "precios_arg_90 = ARG_wine_90.price.values\n",
    "\n",
    "print('Cantidad de vinos de 85:',len(precios_arg_85))\n",
    "print('Cantidad de vinos de 90:',len(precios_arg_90))"
   ]
  },
  {
   "cell_type": "code",
   "execution_count": null,
   "metadata": {},
   "outputs": [],
   "source": [
    "# Definimos la cantidad de bins para cada grupo\n",
    "n_bins_85 = 17\n",
    "n_bins_90 = 25\n",
    "\n",
    "# Creamos la figura y los ejes\n",
    "fig, ax = plt.subplots()\n",
    "\n",
    "n, bins, _ = ax.hist(precios_arg_85, n_bins_85, facecolor='g', alpha=0.5, label='Puntaje de 85')\n",
    "n, bins, _ = ax.hist(precios_arg_90, n_bins_90, facecolor='b', alpha=0.5, label='Puntaje de 90')\n",
    "\n",
    "ax.set(xlabel='Precio (usd)', ylabel='Cuentas',\n",
    "       title='Distribución de Precios de Vinos Argentinos', xlim = (0,75))\n",
    "\n",
    "# Agregamos la leyenda al gráfico, la graficamos abajo a la derecha\n",
    "ax.legend(loc='upper right', shadow=True, fontsize=13)"
   ]
  }
 ],
 "metadata": {
  "kernelspec": {
   "display_name": "Python 3",
   "language": "python",
   "name": "python3"
  },
  "language_info": {
   "codemirror_mode": {
    "name": "ipython",
    "version": 3
   },
   "file_extension": ".py",
   "mimetype": "text/x-python",
   "name": "python",
   "nbconvert_exporter": "python",
   "pygments_lexer": "ipython3",
   "version": "3.7.4"
  }
 },
 "nbformat": 4,
 "nbformat_minor": 4
}
